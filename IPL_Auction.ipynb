{
 "cells": [
  {
   "cell_type": "markdown",
   "metadata": {},
   "source": [
    "#### IPL Auction Data Analysis"
   ]
  },
  {
   "cell_type": "code",
   "execution_count": 1,
   "metadata": {},
   "outputs": [],
   "source": [
    "# Importing the important libraries:\n",
    "\n",
    "import pandas as pd\n",
    "import numpy as np\n",
    "import matplotlib.pyplot as plt\n",
    "import seaborn as sns"
   ]
  },
  {
   "cell_type": "markdown",
   "metadata": {},
   "source": [
    "### Loading all the datasets and performed the preprocessing:"
   ]
  },
  {
   "cell_type": "code",
   "execution_count": 2,
   "metadata": {},
   "outputs": [
    {
     "data": {
      "text/html": [
       "<div>\n",
       "<style scoped>\n",
       "    .dataframe tbody tr th:only-of-type {\n",
       "        vertical-align: middle;\n",
       "    }\n",
       "\n",
       "    .dataframe tbody tr th {\n",
       "        vertical-align: top;\n",
       "    }\n",
       "\n",
       "    .dataframe thead th {\n",
       "        text-align: right;\n",
       "    }\n",
       "</style>\n",
       "<table border=\"1\" class=\"dataframe\">\n",
       "  <thead>\n",
       "    <tr style=\"text-align: right;\">\n",
       "      <th></th>\n",
       "      <th>Sr. No.</th>\n",
       "      <th>Player</th>\n",
       "      <th>Base Price</th>\n",
       "      <th>Winning Bid</th>\n",
       "      <th>Capped/Uncapped</th>\n",
       "    </tr>\n",
       "  </thead>\n",
       "  <tbody>\n",
       "    <tr>\n",
       "      <th>0</th>\n",
       "      <td>1</td>\n",
       "      <td>Noor Ahmad</td>\n",
       "      <td>20000000</td>\n",
       "      <td>100000000</td>\n",
       "      <td>Capped</td>\n",
       "    </tr>\n",
       "    <tr>\n",
       "      <th>1</th>\n",
       "      <td>2</td>\n",
       "      <td>Ravichandaran Ashwin</td>\n",
       "      <td>20000000</td>\n",
       "      <td>97500000</td>\n",
       "      <td>Capped</td>\n",
       "    </tr>\n",
       "  </tbody>\n",
       "</table>\n",
       "</div>"
      ],
      "text/plain": [
       "   Sr. No.                Player  Base Price  Winning Bid Capped/Uncapped\n",
       "0        1            Noor Ahmad    20000000    100000000          Capped\n",
       "1        2  Ravichandaran Ashwin    20000000     97500000          Capped"
      ]
     },
     "execution_count": 2,
     "metadata": {},
     "output_type": "execute_result"
    }
   ],
   "source": [
    "df1=pd.read_csv('CSK_Players_List.csv')\n",
    "df1.head(2)"
   ]
  },
  {
   "cell_type": "code",
   "execution_count": 3,
   "metadata": {},
   "outputs": [
    {
     "data": {
      "text/plain": [
       "Sr. No.            0\n",
       "Player             0\n",
       "Base Price         0\n",
       "Winning Bid        0\n",
       "Capped/Uncapped    0\n",
       "dtype: int64"
      ]
     },
     "execution_count": 3,
     "metadata": {},
     "output_type": "execute_result"
    }
   ],
   "source": [
    "df1.isnull().sum()"
   ]
  },
  {
   "cell_type": "code",
   "execution_count": 4,
   "metadata": {},
   "outputs": [
    {
     "data": {
      "text/plain": [
       "Sr. No.  Player                Base Price  Winning Bid  Capped/Uncapped\n",
       "1        Noor Ahmad            20000000    100000000    Capped             1\n",
       "2        Ravichandaran Ashwin  20000000    97500000     Capped             1\n",
       "19       Mukesh Choudhary      3000000     3000000      Uncapped           1\n",
       "18       Kamlesh Nagarkoti     3000000     3000000      Uncapped           1\n",
       "17       Ramakrishna Ghosh     3000000     3000000      Uncapped           1\n",
       "16       Shreyas Gopal         3000000     3000000      Uncapped           1\n",
       "15       Andre Siddarth        3000000     3000000      Uncapped           1\n",
       "14       Vansh Bedi            3000000     5500000      Uncapped           1\n",
       "13       Vijay Shankar         3000000     12000000     Uncapped           1\n",
       "12       Jamie Overton         15000000    15000000     Capped             1\n",
       "11       Deepak Hooda          7500000     17000000     Capped             1\n",
       "10       Nathan Ellis          12500000    20000000     Capped             1\n",
       "9        Gurjapneet Singh      3000000     22000000     Uncapped           1\n",
       "8        Sam Curran            20000000    24000000     Capped             1\n",
       "7        Rahul Tripathi        7500000     34000000     Capped             1\n",
       "6        Anshul Kamboj         3000000     34000000     Uncapped           1\n",
       "5        Rachin Ravindra       15000000    40000000     Capped             1\n",
       "4        Syed Khaleel Ahmed    20000000    48000000     Capped             1\n",
       "3        Devon Conway          20000000    62500000     Capped             1\n",
       "20       Shaik Rasheed         3000000     3000000      Uncapped           1\n",
       "dtype: int64"
      ]
     },
     "execution_count": 4,
     "metadata": {},
     "output_type": "execute_result"
    }
   ],
   "source": [
    "df1.value_counts()"
   ]
  },
  {
   "cell_type": "code",
   "execution_count": 5,
   "metadata": {},
   "outputs": [
    {
     "name": "stdout",
     "output_type": "stream",
     "text": [
      "<class 'pandas.core.frame.DataFrame'>\n",
      "RangeIndex: 20 entries, 0 to 19\n",
      "Data columns (total 5 columns):\n",
      " #   Column           Non-Null Count  Dtype \n",
      "---  ------           --------------  ----- \n",
      " 0   Sr. No.          20 non-null     int64 \n",
      " 1   Player           20 non-null     object\n",
      " 2   Base Price       20 non-null     int64 \n",
      " 3   Winning Bid      20 non-null     int64 \n",
      " 4   Capped/Uncapped  20 non-null     object\n",
      "dtypes: int64(3), object(2)\n",
      "memory usage: 932.0+ bytes\n"
     ]
    }
   ],
   "source": [
    "df1.info()"
   ]
  },
  {
   "cell_type": "code",
   "execution_count": 6,
   "metadata": {},
   "outputs": [
    {
     "data": {
      "text/html": [
       "<div>\n",
       "<style scoped>\n",
       "    .dataframe tbody tr th:only-of-type {\n",
       "        vertical-align: middle;\n",
       "    }\n",
       "\n",
       "    .dataframe tbody tr th {\n",
       "        vertical-align: top;\n",
       "    }\n",
       "\n",
       "    .dataframe thead th {\n",
       "        text-align: right;\n",
       "    }\n",
       "</style>\n",
       "<table border=\"1\" class=\"dataframe\">\n",
       "  <thead>\n",
       "    <tr style=\"text-align: right;\">\n",
       "      <th></th>\n",
       "      <th>Sr. No.</th>\n",
       "      <th>Base Price</th>\n",
       "      <th>Winning Bid</th>\n",
       "    </tr>\n",
       "  </thead>\n",
       "  <tbody>\n",
       "    <tr>\n",
       "      <th>count</th>\n",
       "      <td>20.00000</td>\n",
       "      <td>2.000000e+01</td>\n",
       "      <td>2.000000e+01</td>\n",
       "    </tr>\n",
       "    <tr>\n",
       "      <th>mean</th>\n",
       "      <td>10.50000</td>\n",
       "      <td>9.375000e+06</td>\n",
       "      <td>2.747500e+07</td>\n",
       "    </tr>\n",
       "    <tr>\n",
       "      <th>std</th>\n",
       "      <td>5.91608</td>\n",
       "      <td>7.437237e+06</td>\n",
       "      <td>2.967653e+07</td>\n",
       "    </tr>\n",
       "    <tr>\n",
       "      <th>min</th>\n",
       "      <td>1.00000</td>\n",
       "      <td>3.000000e+06</td>\n",
       "      <td>3.000000e+06</td>\n",
       "    </tr>\n",
       "    <tr>\n",
       "      <th>25%</th>\n",
       "      <td>5.75000</td>\n",
       "      <td>3.000000e+06</td>\n",
       "      <td>3.000000e+06</td>\n",
       "    </tr>\n",
       "    <tr>\n",
       "      <th>50%</th>\n",
       "      <td>10.50000</td>\n",
       "      <td>5.250000e+06</td>\n",
       "      <td>1.850000e+07</td>\n",
       "    </tr>\n",
       "    <tr>\n",
       "      <th>75%</th>\n",
       "      <td>15.25000</td>\n",
       "      <td>1.625000e+07</td>\n",
       "      <td>3.550000e+07</td>\n",
       "    </tr>\n",
       "    <tr>\n",
       "      <th>max</th>\n",
       "      <td>20.00000</td>\n",
       "      <td>2.000000e+07</td>\n",
       "      <td>1.000000e+08</td>\n",
       "    </tr>\n",
       "  </tbody>\n",
       "</table>\n",
       "</div>"
      ],
      "text/plain": [
       "        Sr. No.    Base Price   Winning Bid\n",
       "count  20.00000  2.000000e+01  2.000000e+01\n",
       "mean   10.50000  9.375000e+06  2.747500e+07\n",
       "std     5.91608  7.437237e+06  2.967653e+07\n",
       "min     1.00000  3.000000e+06  3.000000e+06\n",
       "25%     5.75000  3.000000e+06  3.000000e+06\n",
       "50%    10.50000  5.250000e+06  1.850000e+07\n",
       "75%    15.25000  1.625000e+07  3.550000e+07\n",
       "max    20.00000  2.000000e+07  1.000000e+08"
      ]
     },
     "execution_count": 6,
     "metadata": {},
     "output_type": "execute_result"
    }
   ],
   "source": [
    "df1.describe()"
   ]
  },
  {
   "cell_type": "code",
   "execution_count": 7,
   "metadata": {},
   "outputs": [
    {
     "data": {
      "text/html": [
       "<div>\n",
       "<style scoped>\n",
       "    .dataframe tbody tr th:only-of-type {\n",
       "        vertical-align: middle;\n",
       "    }\n",
       "\n",
       "    .dataframe tbody tr th {\n",
       "        vertical-align: top;\n",
       "    }\n",
       "\n",
       "    .dataframe thead th {\n",
       "        text-align: right;\n",
       "    }\n",
       "</style>\n",
       "<table border=\"1\" class=\"dataframe\">\n",
       "  <thead>\n",
       "    <tr style=\"text-align: right;\">\n",
       "      <th></th>\n",
       "      <th>Sr. No.</th>\n",
       "      <th>Player</th>\n",
       "      <th>Base Price</th>\n",
       "      <th>Winning Bid</th>\n",
       "      <th>Capped/Uncapped</th>\n",
       "    </tr>\n",
       "  </thead>\n",
       "  <tbody>\n",
       "    <tr>\n",
       "      <th>0</th>\n",
       "      <td>1</td>\n",
       "      <td>KL Rahul</td>\n",
       "      <td>20000000</td>\n",
       "      <td>140000000</td>\n",
       "      <td>Capped</td>\n",
       "    </tr>\n",
       "    <tr>\n",
       "      <th>1</th>\n",
       "      <td>2</td>\n",
       "      <td>Mitchell Starc</td>\n",
       "      <td>20000000</td>\n",
       "      <td>117500000</td>\n",
       "      <td>Capped</td>\n",
       "    </tr>\n",
       "  </tbody>\n",
       "</table>\n",
       "</div>"
      ],
      "text/plain": [
       "   Sr. No.          Player  Base Price  Winning Bid Capped/Uncapped\n",
       "0        1        KL Rahul    20000000    140000000          Capped\n",
       "1        2  Mitchell Starc    20000000    117500000          Capped"
      ]
     },
     "execution_count": 7,
     "metadata": {},
     "output_type": "execute_result"
    }
   ],
   "source": [
    "df2=pd.read_csv('DC_Players_list.csv')\n",
    "df2.head(2)"
   ]
  },
  {
   "cell_type": "code",
   "execution_count": 8,
   "metadata": {},
   "outputs": [
    {
     "data": {
      "text/plain": [
       "Sr. No.            0\n",
       "Player             0\n",
       "Base Price         0\n",
       "Winning Bid        0\n",
       "Capped/Uncapped    0\n",
       "dtype: int64"
      ]
     },
     "execution_count": 8,
     "metadata": {},
     "output_type": "execute_result"
    }
   ],
   "source": [
    "df2.isnull().sum()"
   ]
  },
  {
   "cell_type": "code",
   "execution_count": 9,
   "metadata": {},
   "outputs": [
    {
     "data": {
      "text/plain": [
       "Sr. No.  Player                  Base Price  Winning Bid  Capped/Uncapped\n",
       "1        KL Rahul                20000000    140000000    Capped             1\n",
       "11       Donovan Ferreira        7500000     7500000      Capped             1\n",
       "18       Ajay Mandal             3000000     3000000      Uncapped           1\n",
       "17       Manvanth Kumar L        3000000     3000000      Uncapped           1\n",
       "16       Tripurana Vijay         3000000     3000000      Uncapped           1\n",
       "15       Madhav Tiwari           3000000     4000000      Uncapped           1\n",
       "14       Karun Nair              3000000     5000000      Uncapped           1\n",
       "13       Vipraj Nigam            3000000     5000000      Uncapped           1\n",
       "12       Dushmantha Chameera     7500000     7500000      Capped             1\n",
       "10       Sameer Rizvi            3000000     9500000      Uncapped           1\n",
       "2        Mitchell Starc          20000000    117500000    Capped             1\n",
       "9        Faf Du Plessis          20000000    20000000     Capped             1\n",
       "8        Mohit Sharma            5000000     22000000     Uncapped           1\n",
       "7        Ashutosh Sharma         3000000     38000000     Uncapped           1\n",
       "6        Harry Brook             20000000    62500000     Capped             1\n",
       "5        Mukesh Kumar (R)        20000000    80000000     Capped             1\n",
       "4        Jake Fraser-Mcgurk (R)  20000000    90000000     Capped             1\n",
       "3        T. Natarajan            20000000    107500000    Capped             1\n",
       "19       Darshan Nalkande        3000000     3000000      Uncapped           1\n",
       "dtype: int64"
      ]
     },
     "execution_count": 9,
     "metadata": {},
     "output_type": "execute_result"
    }
   ],
   "source": [
    "df2.value_counts()"
   ]
  },
  {
   "cell_type": "code",
   "execution_count": 10,
   "metadata": {},
   "outputs": [
    {
     "data": {
      "text/html": [
       "<div>\n",
       "<style scoped>\n",
       "    .dataframe tbody tr th:only-of-type {\n",
       "        vertical-align: middle;\n",
       "    }\n",
       "\n",
       "    .dataframe tbody tr th {\n",
       "        vertical-align: top;\n",
       "    }\n",
       "\n",
       "    .dataframe thead th {\n",
       "        text-align: right;\n",
       "    }\n",
       "</style>\n",
       "<table border=\"1\" class=\"dataframe\">\n",
       "  <thead>\n",
       "    <tr style=\"text-align: right;\">\n",
       "      <th></th>\n",
       "      <th>Sr. No.</th>\n",
       "      <th>Base Price</th>\n",
       "      <th>Winning Bid</th>\n",
       "    </tr>\n",
       "  </thead>\n",
       "  <tbody>\n",
       "    <tr>\n",
       "      <th>count</th>\n",
       "      <td>19.000000</td>\n",
       "      <td>1.900000e+01</td>\n",
       "      <td>1.900000e+01</td>\n",
       "    </tr>\n",
       "    <tr>\n",
       "      <th>mean</th>\n",
       "      <td>10.000000</td>\n",
       "      <td>9.842105e+06</td>\n",
       "      <td>3.831579e+07</td>\n",
       "    </tr>\n",
       "    <tr>\n",
       "      <th>std</th>\n",
       "      <td>5.627314</td>\n",
       "      <td>8.089864e+06</td>\n",
       "      <td>4.601184e+07</td>\n",
       "    </tr>\n",
       "    <tr>\n",
       "      <th>min</th>\n",
       "      <td>1.000000</td>\n",
       "      <td>3.000000e+06</td>\n",
       "      <td>3.000000e+06</td>\n",
       "    </tr>\n",
       "    <tr>\n",
       "      <th>25%</th>\n",
       "      <td>5.500000</td>\n",
       "      <td>3.000000e+06</td>\n",
       "      <td>4.500000e+06</td>\n",
       "    </tr>\n",
       "    <tr>\n",
       "      <th>50%</th>\n",
       "      <td>10.000000</td>\n",
       "      <td>5.000000e+06</td>\n",
       "      <td>9.500000e+06</td>\n",
       "    </tr>\n",
       "    <tr>\n",
       "      <th>75%</th>\n",
       "      <td>14.500000</td>\n",
       "      <td>2.000000e+07</td>\n",
       "      <td>7.125000e+07</td>\n",
       "    </tr>\n",
       "    <tr>\n",
       "      <th>max</th>\n",
       "      <td>19.000000</td>\n",
       "      <td>2.000000e+07</td>\n",
       "      <td>1.400000e+08</td>\n",
       "    </tr>\n",
       "  </tbody>\n",
       "</table>\n",
       "</div>"
      ],
      "text/plain": [
       "         Sr. No.    Base Price   Winning Bid\n",
       "count  19.000000  1.900000e+01  1.900000e+01\n",
       "mean   10.000000  9.842105e+06  3.831579e+07\n",
       "std     5.627314  8.089864e+06  4.601184e+07\n",
       "min     1.000000  3.000000e+06  3.000000e+06\n",
       "25%     5.500000  3.000000e+06  4.500000e+06\n",
       "50%    10.000000  5.000000e+06  9.500000e+06\n",
       "75%    14.500000  2.000000e+07  7.125000e+07\n",
       "max    19.000000  2.000000e+07  1.400000e+08"
      ]
     },
     "execution_count": 10,
     "metadata": {},
     "output_type": "execute_result"
    }
   ],
   "source": [
    "df2.describe()"
   ]
  },
  {
   "cell_type": "code",
   "execution_count": 11,
   "metadata": {},
   "outputs": [
    {
     "name": "stdout",
     "output_type": "stream",
     "text": [
      "<class 'pandas.core.frame.DataFrame'>\n",
      "RangeIndex: 19 entries, 0 to 18\n",
      "Data columns (total 5 columns):\n",
      " #   Column           Non-Null Count  Dtype \n",
      "---  ------           --------------  ----- \n",
      " 0   Sr. No.          19 non-null     int64 \n",
      " 1   Player           19 non-null     object\n",
      " 2   Base Price       19 non-null     int64 \n",
      " 3   Winning Bid      19 non-null     int64 \n",
      " 4   Capped/Uncapped  19 non-null     object\n",
      "dtypes: int64(3), object(2)\n",
      "memory usage: 892.0+ bytes\n"
     ]
    }
   ],
   "source": [
    "df2.info()"
   ]
  },
  {
   "cell_type": "code",
   "execution_count": 12,
   "metadata": {},
   "outputs": [
    {
     "data": {
      "text/html": [
       "<div>\n",
       "<style scoped>\n",
       "    .dataframe tbody tr th:only-of-type {\n",
       "        vertical-align: middle;\n",
       "    }\n",
       "\n",
       "    .dataframe tbody tr th {\n",
       "        vertical-align: top;\n",
       "    }\n",
       "\n",
       "    .dataframe thead th {\n",
       "        text-align: right;\n",
       "    }\n",
       "</style>\n",
       "<table border=\"1\" class=\"dataframe\">\n",
       "  <thead>\n",
       "    <tr style=\"text-align: right;\">\n",
       "      <th></th>\n",
       "      <th>Sr. No.</th>\n",
       "      <th>Player</th>\n",
       "      <th>Base Price</th>\n",
       "      <th>Winning Bid</th>\n",
       "      <th>Capped/Uncapped</th>\n",
       "    </tr>\n",
       "  </thead>\n",
       "  <tbody>\n",
       "    <tr>\n",
       "      <th>0</th>\n",
       "      <td>1</td>\n",
       "      <td>Jos Buttler</td>\n",
       "      <td>20000000</td>\n",
       "      <td>157500000</td>\n",
       "      <td>Capped</td>\n",
       "    </tr>\n",
       "    <tr>\n",
       "      <th>1</th>\n",
       "      <td>2</td>\n",
       "      <td>Mohammad Siraj</td>\n",
       "      <td>20000000</td>\n",
       "      <td>122500000</td>\n",
       "      <td>Capped</td>\n",
       "    </tr>\n",
       "  </tbody>\n",
       "</table>\n",
       "</div>"
      ],
      "text/plain": [
       "   Sr. No.          Player  Base Price  Winning Bid Capped/Uncapped\n",
       "0        1     Jos Buttler    20000000    157500000          Capped\n",
       "1        2  Mohammad Siraj    20000000    122500000          Capped"
      ]
     },
     "execution_count": 12,
     "metadata": {},
     "output_type": "execute_result"
    }
   ],
   "source": [
    "df3=pd.read_csv('GT_Players_List.csv')\n",
    "df3.head(2)"
   ]
  },
  {
   "cell_type": "code",
   "execution_count": 13,
   "metadata": {},
   "outputs": [
    {
     "data": {
      "text/plain": [
       "Sr. No.            0\n",
       "Player             0\n",
       "Base Price         0\n",
       "Winning Bid        0\n",
       "Capped/Uncapped    0\n",
       "dtype: int64"
      ]
     },
     "execution_count": 13,
     "metadata": {},
     "output_type": "execute_result"
    }
   ],
   "source": [
    "df3.isnull().sum()"
   ]
  },
  {
   "cell_type": "code",
   "execution_count": 14,
   "metadata": {},
   "outputs": [
    {
     "data": {
      "text/plain": [
       "Sr. No.  Player               Base Price  Winning Bid  Capped/Uncapped\n",
       "1        Jos Buttler          20000000    157500000    Capped             1\n",
       "2        Mohammad Siraj       20000000    122500000    Capped             1\n",
       "19       Anuj Rawat           3000000     3000000      Uncapped           1\n",
       "18       Manav Suthar         3000000     3000000      Uncapped           1\n",
       "17       Kulwant Khejroliya   3000000     3000000      Uncapped           1\n",
       "16       Kumar Kushagra       3000000     6500000      Uncapped           1\n",
       "15       Ishant Sharma        7500000     7500000      Capped             1\n",
       "14       Jayant Yadav         7500000     7500000      Capped             1\n",
       "13       Karim Janat          7500000     7500000      Capped             1\n",
       "12       Mohd. Arshad Khan    3000000     13000000     Uncapped           1\n",
       "11       Gurnoor Singh Brar   3000000     13000000     Uncapped           1\n",
       "10       Mahipal Lomror       5000000     17000000     Uncapped           1\n",
       "9        R. Sai Kishore       7500000     20000000     Capped             1\n",
       "8        Glenn Phillips       20000000    20000000     Capped             1\n",
       "7        Gerald Coetzee       12500000    24000000     Capped             1\n",
       "6        Sherfane Rutherford  15000000    26000000     Capped             1\n",
       "5        Washington Sundar    20000000    32000000     Capped             1\n",
       "4        Prasidh Krishna      20000000    95000000     Capped             1\n",
       "3        Kagiso Rabada        20000000    107500000    Capped             1\n",
       "20       Nishant Sindhu       3000000     3000000      Uncapped           1\n",
       "dtype: int64"
      ]
     },
     "execution_count": 14,
     "metadata": {},
     "output_type": "execute_result"
    }
   ],
   "source": [
    "df3.value_counts()"
   ]
  },
  {
   "cell_type": "code",
   "execution_count": 15,
   "metadata": {},
   "outputs": [
    {
     "data": {
      "text/html": [
       "<div>\n",
       "<style scoped>\n",
       "    .dataframe tbody tr th:only-of-type {\n",
       "        vertical-align: middle;\n",
       "    }\n",
       "\n",
       "    .dataframe tbody tr th {\n",
       "        vertical-align: top;\n",
       "    }\n",
       "\n",
       "    .dataframe thead th {\n",
       "        text-align: right;\n",
       "    }\n",
       "</style>\n",
       "<table border=\"1\" class=\"dataframe\">\n",
       "  <thead>\n",
       "    <tr style=\"text-align: right;\">\n",
       "      <th></th>\n",
       "      <th>Sr. No.</th>\n",
       "      <th>Base Price</th>\n",
       "      <th>Winning Bid</th>\n",
       "    </tr>\n",
       "  </thead>\n",
       "  <tbody>\n",
       "    <tr>\n",
       "      <th>count</th>\n",
       "      <td>20.00000</td>\n",
       "      <td>2.000000e+01</td>\n",
       "      <td>2.000000e+01</td>\n",
       "    </tr>\n",
       "    <tr>\n",
       "      <th>mean</th>\n",
       "      <td>10.50000</td>\n",
       "      <td>1.017500e+07</td>\n",
       "      <td>3.442500e+07</td>\n",
       "    </tr>\n",
       "    <tr>\n",
       "      <th>std</th>\n",
       "      <td>5.91608</td>\n",
       "      <td>7.340004e+06</td>\n",
       "      <td>4.624997e+07</td>\n",
       "    </tr>\n",
       "    <tr>\n",
       "      <th>min</th>\n",
       "      <td>1.00000</td>\n",
       "      <td>3.000000e+06</td>\n",
       "      <td>3.000000e+06</td>\n",
       "    </tr>\n",
       "    <tr>\n",
       "      <th>25%</th>\n",
       "      <td>5.75000</td>\n",
       "      <td>3.000000e+06</td>\n",
       "      <td>7.250000e+06</td>\n",
       "    </tr>\n",
       "    <tr>\n",
       "      <th>50%</th>\n",
       "      <td>10.50000</td>\n",
       "      <td>7.500000e+06</td>\n",
       "      <td>1.500000e+07</td>\n",
       "    </tr>\n",
       "    <tr>\n",
       "      <th>75%</th>\n",
       "      <td>15.25000</td>\n",
       "      <td>2.000000e+07</td>\n",
       "      <td>2.750000e+07</td>\n",
       "    </tr>\n",
       "    <tr>\n",
       "      <th>max</th>\n",
       "      <td>20.00000</td>\n",
       "      <td>2.000000e+07</td>\n",
       "      <td>1.575000e+08</td>\n",
       "    </tr>\n",
       "  </tbody>\n",
       "</table>\n",
       "</div>"
      ],
      "text/plain": [
       "        Sr. No.    Base Price   Winning Bid\n",
       "count  20.00000  2.000000e+01  2.000000e+01\n",
       "mean   10.50000  1.017500e+07  3.442500e+07\n",
       "std     5.91608  7.340004e+06  4.624997e+07\n",
       "min     1.00000  3.000000e+06  3.000000e+06\n",
       "25%     5.75000  3.000000e+06  7.250000e+06\n",
       "50%    10.50000  7.500000e+06  1.500000e+07\n",
       "75%    15.25000  2.000000e+07  2.750000e+07\n",
       "max    20.00000  2.000000e+07  1.575000e+08"
      ]
     },
     "execution_count": 15,
     "metadata": {},
     "output_type": "execute_result"
    }
   ],
   "source": [
    "df3.describe()"
   ]
  },
  {
   "cell_type": "code",
   "execution_count": 16,
   "metadata": {},
   "outputs": [
    {
     "name": "stdout",
     "output_type": "stream",
     "text": [
      "<class 'pandas.core.frame.DataFrame'>\n",
      "RangeIndex: 20 entries, 0 to 19\n",
      "Data columns (total 5 columns):\n",
      " #   Column           Non-Null Count  Dtype \n",
      "---  ------           --------------  ----- \n",
      " 0   Sr. No.          20 non-null     int64 \n",
      " 1   Player           20 non-null     object\n",
      " 2   Base Price       20 non-null     int64 \n",
      " 3   Winning Bid      20 non-null     int64 \n",
      " 4   Capped/Uncapped  20 non-null     object\n",
      "dtypes: int64(3), object(2)\n",
      "memory usage: 932.0+ bytes\n"
     ]
    }
   ],
   "source": [
    "df3.info()"
   ]
  },
  {
   "cell_type": "code",
   "execution_count": 17,
   "metadata": {},
   "outputs": [
    {
     "data": {
      "text/html": [
       "<div>\n",
       "<style scoped>\n",
       "    .dataframe tbody tr th:only-of-type {\n",
       "        vertical-align: middle;\n",
       "    }\n",
       "\n",
       "    .dataframe tbody tr th {\n",
       "        vertical-align: top;\n",
       "    }\n",
       "\n",
       "    .dataframe thead th {\n",
       "        text-align: right;\n",
       "    }\n",
       "</style>\n",
       "<table border=\"1\" class=\"dataframe\">\n",
       "  <thead>\n",
       "    <tr style=\"text-align: right;\">\n",
       "      <th></th>\n",
       "      <th>Sr. No.</th>\n",
       "      <th>Player</th>\n",
       "      <th>Base Price</th>\n",
       "      <th>Winning Bid</th>\n",
       "      <th>Capped/Uncapped</th>\n",
       "    </tr>\n",
       "  </thead>\n",
       "  <tbody>\n",
       "    <tr>\n",
       "      <th>0</th>\n",
       "      <td>1</td>\n",
       "      <td>Venkatesh Iyer</td>\n",
       "      <td>20000000</td>\n",
       "      <td>237500000</td>\n",
       "      <td>Capped</td>\n",
       "    </tr>\n",
       "    <tr>\n",
       "      <th>1</th>\n",
       "      <td>2</td>\n",
       "      <td>Anrich Nortje</td>\n",
       "      <td>20000000</td>\n",
       "      <td>65000000</td>\n",
       "      <td>Capped</td>\n",
       "    </tr>\n",
       "  </tbody>\n",
       "</table>\n",
       "</div>"
      ],
      "text/plain": [
       "   Sr. No.          Player  Base Price  Winning Bid Capped/Uncapped\n",
       "0        1  Venkatesh Iyer    20000000    237500000          Capped\n",
       "1        2   Anrich Nortje    20000000     65000000          Capped"
      ]
     },
     "execution_count": 17,
     "metadata": {},
     "output_type": "execute_result"
    }
   ],
   "source": [
    "df4=pd.read_csv('KKR_Players_List.csv')\n",
    "df4.head(2)"
   ]
  },
  {
   "cell_type": "code",
   "execution_count": 18,
   "metadata": {},
   "outputs": [
    {
     "data": {
      "text/plain": [
       "Sr. No.            0\n",
       "Player             0\n",
       "Base Price         0\n",
       "Winning Bid        0\n",
       "Capped/Uncapped    0\n",
       "dtype: int64"
      ]
     },
     "execution_count": 18,
     "metadata": {},
     "output_type": "execute_result"
    }
   ],
   "source": [
    "df4.isnull().sum()"
   ]
  },
  {
   "cell_type": "code",
   "execution_count": 19,
   "metadata": {},
   "outputs": [
    {
     "data": {
      "text/plain": [
       "Sr. No.  Player                Base Price  Winning Bid  Capped/Uncapped\n",
       "1        Venkatesh Iyer        20000000    237500000    Capped             1\n",
       "2        Anrich Nortje         20000000    65000000     Capped             1\n",
       "3        Quinton De Kock       20000000    36000000     Capped             1\n",
       "4        Angkrish Raghuvanshi  3000000     30000000     Uncapped           1\n",
       "5        Spencer Johnson       20000000    28000000     Capped             1\n",
       "6        Moeen Ali             20000000    20000000     Capped             1\n",
       "7        Rahmanullah Gurbaz    20000000    20000000     Capped             1\n",
       "8        Vaibhav Arora         3000000     18000000     Uncapped           1\n",
       "9        Ajinkya Rahane        15000000    15000000     Capped             1\n",
       "10       Rovman Powell         15000000    15000000     Capped             1\n",
       "11       Umran Malik           7500000     7500000      Capped             1\n",
       "12       Manish Pandey         7500000     7500000      Capped             1\n",
       "13       Anukul Roy            3000000     4000000      Uncapped           1\n",
       "14       Luvnith Sisodia       3000000     3000000      Uncapped           1\n",
       "15       Mayank Markande       3000000     3000000      Uncapped           1\n",
       "dtype: int64"
      ]
     },
     "execution_count": 19,
     "metadata": {},
     "output_type": "execute_result"
    }
   ],
   "source": [
    "df4.value_counts()"
   ]
  },
  {
   "cell_type": "code",
   "execution_count": 20,
   "metadata": {},
   "outputs": [
    {
     "data": {
      "text/html": [
       "<div>\n",
       "<style scoped>\n",
       "    .dataframe tbody tr th:only-of-type {\n",
       "        vertical-align: middle;\n",
       "    }\n",
       "\n",
       "    .dataframe tbody tr th {\n",
       "        vertical-align: top;\n",
       "    }\n",
       "\n",
       "    .dataframe thead th {\n",
       "        text-align: right;\n",
       "    }\n",
       "</style>\n",
       "<table border=\"1\" class=\"dataframe\">\n",
       "  <thead>\n",
       "    <tr style=\"text-align: right;\">\n",
       "      <th></th>\n",
       "      <th>Sr. No.</th>\n",
       "      <th>Base Price</th>\n",
       "      <th>Winning Bid</th>\n",
       "    </tr>\n",
       "  </thead>\n",
       "  <tbody>\n",
       "    <tr>\n",
       "      <th>count</th>\n",
       "      <td>15.000000</td>\n",
       "      <td>1.500000e+01</td>\n",
       "      <td>1.500000e+01</td>\n",
       "    </tr>\n",
       "    <tr>\n",
       "      <th>mean</th>\n",
       "      <td>8.000000</td>\n",
       "      <td>1.200000e+07</td>\n",
       "      <td>3.396667e+07</td>\n",
       "    </tr>\n",
       "    <tr>\n",
       "      <th>std</th>\n",
       "      <td>4.472136</td>\n",
       "      <td>7.780470e+06</td>\n",
       "      <td>5.856970e+07</td>\n",
       "    </tr>\n",
       "    <tr>\n",
       "      <th>min</th>\n",
       "      <td>1.000000</td>\n",
       "      <td>3.000000e+06</td>\n",
       "      <td>3.000000e+06</td>\n",
       "    </tr>\n",
       "    <tr>\n",
       "      <th>25%</th>\n",
       "      <td>4.500000</td>\n",
       "      <td>3.000000e+06</td>\n",
       "      <td>7.500000e+06</td>\n",
       "    </tr>\n",
       "    <tr>\n",
       "      <th>50%</th>\n",
       "      <td>8.000000</td>\n",
       "      <td>1.500000e+07</td>\n",
       "      <td>1.800000e+07</td>\n",
       "    </tr>\n",
       "    <tr>\n",
       "      <th>75%</th>\n",
       "      <td>11.500000</td>\n",
       "      <td>2.000000e+07</td>\n",
       "      <td>2.900000e+07</td>\n",
       "    </tr>\n",
       "    <tr>\n",
       "      <th>max</th>\n",
       "      <td>15.000000</td>\n",
       "      <td>2.000000e+07</td>\n",
       "      <td>2.375000e+08</td>\n",
       "    </tr>\n",
       "  </tbody>\n",
       "</table>\n",
       "</div>"
      ],
      "text/plain": [
       "         Sr. No.    Base Price   Winning Bid\n",
       "count  15.000000  1.500000e+01  1.500000e+01\n",
       "mean    8.000000  1.200000e+07  3.396667e+07\n",
       "std     4.472136  7.780470e+06  5.856970e+07\n",
       "min     1.000000  3.000000e+06  3.000000e+06\n",
       "25%     4.500000  3.000000e+06  7.500000e+06\n",
       "50%     8.000000  1.500000e+07  1.800000e+07\n",
       "75%    11.500000  2.000000e+07  2.900000e+07\n",
       "max    15.000000  2.000000e+07  2.375000e+08"
      ]
     },
     "execution_count": 20,
     "metadata": {},
     "output_type": "execute_result"
    }
   ],
   "source": [
    "df4.describe()"
   ]
  },
  {
   "cell_type": "code",
   "execution_count": 21,
   "metadata": {},
   "outputs": [
    {
     "name": "stdout",
     "output_type": "stream",
     "text": [
      "<class 'pandas.core.frame.DataFrame'>\n",
      "RangeIndex: 15 entries, 0 to 14\n",
      "Data columns (total 5 columns):\n",
      " #   Column           Non-Null Count  Dtype \n",
      "---  ------           --------------  ----- \n",
      " 0   Sr. No.          15 non-null     int64 \n",
      " 1   Player           15 non-null     object\n",
      " 2   Base Price       15 non-null     int64 \n",
      " 3   Winning Bid      15 non-null     int64 \n",
      " 4   Capped/Uncapped  15 non-null     object\n",
      "dtypes: int64(3), object(2)\n",
      "memory usage: 732.0+ bytes\n"
     ]
    }
   ],
   "source": [
    "df4.info()"
   ]
  },
  {
   "cell_type": "code",
   "execution_count": 22,
   "metadata": {},
   "outputs": [
    {
     "data": {
      "text/html": [
       "<div>\n",
       "<style scoped>\n",
       "    .dataframe tbody tr th:only-of-type {\n",
       "        vertical-align: middle;\n",
       "    }\n",
       "\n",
       "    .dataframe tbody tr th {\n",
       "        vertical-align: top;\n",
       "    }\n",
       "\n",
       "    .dataframe thead th {\n",
       "        text-align: right;\n",
       "    }\n",
       "</style>\n",
       "<table border=\"1\" class=\"dataframe\">\n",
       "  <thead>\n",
       "    <tr style=\"text-align: right;\">\n",
       "      <th></th>\n",
       "      <th>Sr. No.</th>\n",
       "      <th>Player</th>\n",
       "      <th>Base Price</th>\n",
       "      <th>Winning Bid</th>\n",
       "      <th>Capped/Uncapped</th>\n",
       "    </tr>\n",
       "  </thead>\n",
       "  <tbody>\n",
       "    <tr>\n",
       "      <th>0</th>\n",
       "      <td>1</td>\n",
       "      <td>Rishabh Pant</td>\n",
       "      <td>20000000</td>\n",
       "      <td>270000000</td>\n",
       "      <td>Capped</td>\n",
       "    </tr>\n",
       "    <tr>\n",
       "      <th>1</th>\n",
       "      <td>2</td>\n",
       "      <td>Avesh Khan</td>\n",
       "      <td>20000000</td>\n",
       "      <td>97500000</td>\n",
       "      <td>Capped</td>\n",
       "    </tr>\n",
       "  </tbody>\n",
       "</table>\n",
       "</div>"
      ],
      "text/plain": [
       "   Sr. No.        Player  Base Price  Winning Bid Capped/Uncapped\n",
       "0        1  Rishabh Pant    20000000    270000000          Capped\n",
       "1        2    Avesh Khan    20000000     97500000          Capped"
      ]
     },
     "execution_count": 22,
     "metadata": {},
     "output_type": "execute_result"
    }
   ],
   "source": [
    "df5=pd.read_csv('LSG_Players_List.csv')\n",
    "df5.head(2)"
   ]
  },
  {
   "cell_type": "code",
   "execution_count": 23,
   "metadata": {},
   "outputs": [
    {
     "data": {
      "text/plain": [
       "Sr. No.            0\n",
       "Player             0\n",
       "Base Price         0\n",
       "Winning Bid        0\n",
       "Capped/Uncapped    0\n",
       "dtype: int64"
      ]
     },
     "execution_count": 23,
     "metadata": {},
     "output_type": "execute_result"
    }
   ],
   "source": [
    "df5.isnull().sum()"
   ]
  },
  {
   "cell_type": "code",
   "execution_count": 24,
   "metadata": {},
   "outputs": [
    {
     "data": {
      "text/plain": [
       "Sr. No.  Player                  Base Price  Winning Bid  Capped/Uncapped\n",
       "1        Rishabh Pant            20000000    270000000    Capped             1\n",
       "11       M. Siddharth            3000000     7500000      Uncapped           1\n",
       "18       Himmat Singh            3000000     3000000      Uncapped           1\n",
       "17       Digvesh Singh           3000000     3000000      Uncapped           1\n",
       "16       Akash Singh             3000000     3000000      Uncapped           1\n",
       "15       Prince Yadav            3000000     3000000      Uncapped           1\n",
       "14       Yuvraj Chaudhary        3000000     3000000      Uncapped           1\n",
       "13       Rajvardhan Hangargekar  3000000     3000000      Uncapped           1\n",
       "12       Arshin Kulkarni         3000000     3000000      Uncapped           1\n",
       "10       Shamar Joseph           7500000     7500000      Capped             1\n",
       "2        Avesh Khan              20000000    97500000     Capped             1\n",
       "9        Matthew Breetzke        7500000     7500000      Capped             1\n",
       "8        Aiden Markram           20000000    20000000     Capped             1\n",
       "7        Shahbaz Ahamad          10000000    24000000     Capped             1\n",
       "6        Mitchell Marsh          20000000    34000000     Capped             1\n",
       "5        Abdul Samad             3000000     42000000     Uncapped           1\n",
       "4        David Miller            15000000    75000000     Capped             1\n",
       "3        Akash Deep              10000000    80000000     Capped             1\n",
       "19       Aryan Juyal             3000000     3000000      Uncapped           1\n",
       "dtype: int64"
      ]
     },
     "execution_count": 24,
     "metadata": {},
     "output_type": "execute_result"
    }
   ],
   "source": [
    "df5.value_counts()"
   ]
  },
  {
   "cell_type": "code",
   "execution_count": 25,
   "metadata": {},
   "outputs": [
    {
     "data": {
      "text/html": [
       "<div>\n",
       "<style scoped>\n",
       "    .dataframe tbody tr th:only-of-type {\n",
       "        vertical-align: middle;\n",
       "    }\n",
       "\n",
       "    .dataframe tbody tr th {\n",
       "        vertical-align: top;\n",
       "    }\n",
       "\n",
       "    .dataframe thead th {\n",
       "        text-align: right;\n",
       "    }\n",
       "</style>\n",
       "<table border=\"1\" class=\"dataframe\">\n",
       "  <thead>\n",
       "    <tr style=\"text-align: right;\">\n",
       "      <th></th>\n",
       "      <th>Sr. No.</th>\n",
       "      <th>Base Price</th>\n",
       "      <th>Winning Bid</th>\n",
       "    </tr>\n",
       "  </thead>\n",
       "  <tbody>\n",
       "    <tr>\n",
       "      <th>count</th>\n",
       "      <td>19.000000</td>\n",
       "      <td>1.900000e+01</td>\n",
       "      <td>1.900000e+01</td>\n",
       "    </tr>\n",
       "    <tr>\n",
       "      <th>mean</th>\n",
       "      <td>10.000000</td>\n",
       "      <td>8.421053e+06</td>\n",
       "      <td>3.626316e+07</td>\n",
       "    </tr>\n",
       "    <tr>\n",
       "      <th>std</th>\n",
       "      <td>5.627314</td>\n",
       "      <td>6.992582e+06</td>\n",
       "      <td>6.393690e+07</td>\n",
       "    </tr>\n",
       "    <tr>\n",
       "      <th>min</th>\n",
       "      <td>1.000000</td>\n",
       "      <td>3.000000e+06</td>\n",
       "      <td>3.000000e+06</td>\n",
       "    </tr>\n",
       "    <tr>\n",
       "      <th>25%</th>\n",
       "      <td>5.500000</td>\n",
       "      <td>3.000000e+06</td>\n",
       "      <td>3.000000e+06</td>\n",
       "    </tr>\n",
       "    <tr>\n",
       "      <th>50%</th>\n",
       "      <td>10.000000</td>\n",
       "      <td>3.000000e+06</td>\n",
       "      <td>7.500000e+06</td>\n",
       "    </tr>\n",
       "    <tr>\n",
       "      <th>75%</th>\n",
       "      <td>14.500000</td>\n",
       "      <td>1.250000e+07</td>\n",
       "      <td>3.800000e+07</td>\n",
       "    </tr>\n",
       "    <tr>\n",
       "      <th>max</th>\n",
       "      <td>19.000000</td>\n",
       "      <td>2.000000e+07</td>\n",
       "      <td>2.700000e+08</td>\n",
       "    </tr>\n",
       "  </tbody>\n",
       "</table>\n",
       "</div>"
      ],
      "text/plain": [
       "         Sr. No.    Base Price   Winning Bid\n",
       "count  19.000000  1.900000e+01  1.900000e+01\n",
       "mean   10.000000  8.421053e+06  3.626316e+07\n",
       "std     5.627314  6.992582e+06  6.393690e+07\n",
       "min     1.000000  3.000000e+06  3.000000e+06\n",
       "25%     5.500000  3.000000e+06  3.000000e+06\n",
       "50%    10.000000  3.000000e+06  7.500000e+06\n",
       "75%    14.500000  1.250000e+07  3.800000e+07\n",
       "max    19.000000  2.000000e+07  2.700000e+08"
      ]
     },
     "execution_count": 25,
     "metadata": {},
     "output_type": "execute_result"
    }
   ],
   "source": [
    "df5.describe()"
   ]
  },
  {
   "cell_type": "code",
   "execution_count": 26,
   "metadata": {},
   "outputs": [
    {
     "name": "stdout",
     "output_type": "stream",
     "text": [
      "<class 'pandas.core.frame.DataFrame'>\n",
      "RangeIndex: 19 entries, 0 to 18\n",
      "Data columns (total 5 columns):\n",
      " #   Column           Non-Null Count  Dtype \n",
      "---  ------           --------------  ----- \n",
      " 0   Sr. No.          19 non-null     int64 \n",
      " 1   Player           19 non-null     object\n",
      " 2   Base Price       19 non-null     int64 \n",
      " 3   Winning Bid      19 non-null     int64 \n",
      " 4   Capped/Uncapped  19 non-null     object\n",
      "dtypes: int64(3), object(2)\n",
      "memory usage: 892.0+ bytes\n"
     ]
    }
   ],
   "source": [
    "df5.info()"
   ]
  },
  {
   "cell_type": "code",
   "execution_count": 27,
   "metadata": {},
   "outputs": [
    {
     "data": {
      "text/html": [
       "<div>\n",
       "<style scoped>\n",
       "    .dataframe tbody tr th:only-of-type {\n",
       "        vertical-align: middle;\n",
       "    }\n",
       "\n",
       "    .dataframe tbody tr th {\n",
       "        vertical-align: top;\n",
       "    }\n",
       "\n",
       "    .dataframe thead th {\n",
       "        text-align: right;\n",
       "    }\n",
       "</style>\n",
       "<table border=\"1\" class=\"dataframe\">\n",
       "  <thead>\n",
       "    <tr style=\"text-align: right;\">\n",
       "      <th></th>\n",
       "      <th>Sr. No.</th>\n",
       "      <th>Player</th>\n",
       "      <th>Base Price</th>\n",
       "      <th>Winning Bid</th>\n",
       "      <th>Capped/Uncapped</th>\n",
       "    </tr>\n",
       "  </thead>\n",
       "  <tbody>\n",
       "    <tr>\n",
       "      <th>0</th>\n",
       "      <td>1</td>\n",
       "      <td>Trent Boult</td>\n",
       "      <td>20000000</td>\n",
       "      <td>125000000</td>\n",
       "      <td>Capped</td>\n",
       "    </tr>\n",
       "    <tr>\n",
       "      <th>1</th>\n",
       "      <td>2</td>\n",
       "      <td>Deepak Chahar</td>\n",
       "      <td>20000000</td>\n",
       "      <td>92500000</td>\n",
       "      <td>Capped</td>\n",
       "    </tr>\n",
       "  </tbody>\n",
       "</table>\n",
       "</div>"
      ],
      "text/plain": [
       "   Sr. No.         Player  Base Price  Winning Bid Capped/Uncapped\n",
       "0        1    Trent Boult    20000000    125000000          Capped\n",
       "1        2  Deepak Chahar    20000000     92500000          Capped"
      ]
     },
     "execution_count": 27,
     "metadata": {},
     "output_type": "execute_result"
    }
   ],
   "source": [
    "df6=pd.read_csv('MI_Players_List.csv')\n",
    "df6.head(2)"
   ]
  },
  {
   "cell_type": "code",
   "execution_count": 28,
   "metadata": {},
   "outputs": [
    {
     "data": {
      "text/plain": [
       "Sr. No.            0\n",
       "Player             0\n",
       "Base Price         0\n",
       "Winning Bid        0\n",
       "Capped/Uncapped    0\n",
       "dtype: int64"
      ]
     },
     "execution_count": 28,
     "metadata": {},
     "output_type": "execute_result"
    }
   ],
   "source": [
    "df6.isnull().sum()"
   ]
  },
  {
   "cell_type": "code",
   "execution_count": 29,
   "metadata": {},
   "outputs": [
    {
     "data": {
      "text/plain": [
       "Sr. No.  Player                          Base Price  Winning Bid  Capped/Uncapped\n",
       "1        Trent Boult                     20000000    125000000    Capped             1\n",
       "2        Deepak Chahar                   20000000    92500000     Capped             1\n",
       "17       Shrijith Krishnan               3000000     3000000      Uncapped           1\n",
       "16       Raj Angad Bawa                  3000000     3000000      Uncapped           1\n",
       "15       Venkata Satyanarayana Penmetsa  3000000     3000000      Uncapped           1\n",
       "14       Bevan John Jacobs               3000000     3000000      Uncapped           1\n",
       "13       Arjun Tendulkar                 3000000     3000000      Uncapped           1\n",
       "12       Vignesh Puthur                  3000000     3000000      Uncapped           1\n",
       "11       Karn Sharma                     5000000     5000000      Uncapped           1\n",
       "10       Robin Minz                      3000000     6500000      Uncapped           1\n",
       "9        Reece Topley                    7500000     7500000      Capped             1\n",
       "8        Lizaad Williams                 7500000     7500000      Capped             1\n",
       "7        Ryan Rickelton                  10000000    10000000     Capped             1\n",
       "6        Mitchell Santner                20000000    20000000     Capped             1\n",
       "5        Allah Ghazanfar                 7500000     48000000     Capped             1\n",
       "4        Naman Dhir                      3000000     52500000     Uncapped           1\n",
       "3        Will Jacks                      20000000    52500000     Capped             1\n",
       "18       Ashwani Kumar                   3000000     3000000      Uncapped           1\n",
       "dtype: int64"
      ]
     },
     "execution_count": 29,
     "metadata": {},
     "output_type": "execute_result"
    }
   ],
   "source": [
    "df6.value_counts()"
   ]
  },
  {
   "cell_type": "code",
   "execution_count": 30,
   "metadata": {},
   "outputs": [
    {
     "name": "stdout",
     "output_type": "stream",
     "text": [
      "<class 'pandas.core.frame.DataFrame'>\n",
      "RangeIndex: 18 entries, 0 to 17\n",
      "Data columns (total 5 columns):\n",
      " #   Column           Non-Null Count  Dtype \n",
      "---  ------           --------------  ----- \n",
      " 0   Sr. No.          18 non-null     int64 \n",
      " 1   Player           18 non-null     object\n",
      " 2   Base Price       18 non-null     int64 \n",
      " 3   Winning Bid      18 non-null     int64 \n",
      " 4   Capped/Uncapped  18 non-null     object\n",
      "dtypes: int64(3), object(2)\n",
      "memory usage: 852.0+ bytes\n"
     ]
    }
   ],
   "source": [
    "df6.info()"
   ]
  },
  {
   "cell_type": "code",
   "execution_count": 31,
   "metadata": {},
   "outputs": [
    {
     "data": {
      "text/html": [
       "<div>\n",
       "<style scoped>\n",
       "    .dataframe tbody tr th:only-of-type {\n",
       "        vertical-align: middle;\n",
       "    }\n",
       "\n",
       "    .dataframe tbody tr th {\n",
       "        vertical-align: top;\n",
       "    }\n",
       "\n",
       "    .dataframe thead th {\n",
       "        text-align: right;\n",
       "    }\n",
       "</style>\n",
       "<table border=\"1\" class=\"dataframe\">\n",
       "  <thead>\n",
       "    <tr style=\"text-align: right;\">\n",
       "      <th></th>\n",
       "      <th>Sr. No.</th>\n",
       "      <th>Base Price</th>\n",
       "      <th>Winning Bid</th>\n",
       "    </tr>\n",
       "  </thead>\n",
       "  <tbody>\n",
       "    <tr>\n",
       "      <th>count</th>\n",
       "      <td>18.000000</td>\n",
       "      <td>1.800000e+01</td>\n",
       "      <td>1.800000e+01</td>\n",
       "    </tr>\n",
       "    <tr>\n",
       "      <th>mean</th>\n",
       "      <td>9.500000</td>\n",
       "      <td>8.027778e+06</td>\n",
       "      <td>2.488889e+07</td>\n",
       "    </tr>\n",
       "    <tr>\n",
       "      <th>std</th>\n",
       "      <td>5.338539</td>\n",
       "      <td>6.922836e+06</td>\n",
       "      <td>3.563729e+07</td>\n",
       "    </tr>\n",
       "    <tr>\n",
       "      <th>min</th>\n",
       "      <td>1.000000</td>\n",
       "      <td>3.000000e+06</td>\n",
       "      <td>3.000000e+06</td>\n",
       "    </tr>\n",
       "    <tr>\n",
       "      <th>25%</th>\n",
       "      <td>5.250000</td>\n",
       "      <td>3.000000e+06</td>\n",
       "      <td>3.000000e+06</td>\n",
       "    </tr>\n",
       "    <tr>\n",
       "      <th>50%</th>\n",
       "      <td>9.500000</td>\n",
       "      <td>4.000000e+06</td>\n",
       "      <td>7.000000e+06</td>\n",
       "    </tr>\n",
       "    <tr>\n",
       "      <th>75%</th>\n",
       "      <td>13.750000</td>\n",
       "      <td>9.375000e+06</td>\n",
       "      <td>4.100000e+07</td>\n",
       "    </tr>\n",
       "    <tr>\n",
       "      <th>max</th>\n",
       "      <td>18.000000</td>\n",
       "      <td>2.000000e+07</td>\n",
       "      <td>1.250000e+08</td>\n",
       "    </tr>\n",
       "  </tbody>\n",
       "</table>\n",
       "</div>"
      ],
      "text/plain": [
       "         Sr. No.    Base Price   Winning Bid\n",
       "count  18.000000  1.800000e+01  1.800000e+01\n",
       "mean    9.500000  8.027778e+06  2.488889e+07\n",
       "std     5.338539  6.922836e+06  3.563729e+07\n",
       "min     1.000000  3.000000e+06  3.000000e+06\n",
       "25%     5.250000  3.000000e+06  3.000000e+06\n",
       "50%     9.500000  4.000000e+06  7.000000e+06\n",
       "75%    13.750000  9.375000e+06  4.100000e+07\n",
       "max    18.000000  2.000000e+07  1.250000e+08"
      ]
     },
     "execution_count": 31,
     "metadata": {},
     "output_type": "execute_result"
    }
   ],
   "source": [
    "df6.describe()"
   ]
  },
  {
   "cell_type": "code",
   "execution_count": 32,
   "metadata": {},
   "outputs": [
    {
     "data": {
      "text/html": [
       "<div>\n",
       "<style scoped>\n",
       "    .dataframe tbody tr th:only-of-type {\n",
       "        vertical-align: middle;\n",
       "    }\n",
       "\n",
       "    .dataframe tbody tr th {\n",
       "        vertical-align: top;\n",
       "    }\n",
       "\n",
       "    .dataframe thead th {\n",
       "        text-align: right;\n",
       "    }\n",
       "</style>\n",
       "<table border=\"1\" class=\"dataframe\">\n",
       "  <thead>\n",
       "    <tr style=\"text-align: right;\">\n",
       "      <th></th>\n",
       "      <th>Sr. No.</th>\n",
       "      <th>Player</th>\n",
       "      <th>Base Price</th>\n",
       "      <th>Winning Bid</th>\n",
       "      <th>Capped/Uncapped</th>\n",
       "    </tr>\n",
       "  </thead>\n",
       "  <tbody>\n",
       "    <tr>\n",
       "      <th>0</th>\n",
       "      <td>1</td>\n",
       "      <td>Shreyas Iyer</td>\n",
       "      <td>20000000</td>\n",
       "      <td>267500000</td>\n",
       "      <td>Capped</td>\n",
       "    </tr>\n",
       "    <tr>\n",
       "      <th>1</th>\n",
       "      <td>2</td>\n",
       "      <td>Yuzvendra Chahal</td>\n",
       "      <td>20000000</td>\n",
       "      <td>180000000</td>\n",
       "      <td>Capped</td>\n",
       "    </tr>\n",
       "  </tbody>\n",
       "</table>\n",
       "</div>"
      ],
      "text/plain": [
       "   Sr. No.            Player  Base Price  Winning Bid Capped/Uncapped\n",
       "0        1      Shreyas Iyer    20000000    267500000          Capped\n",
       "1        2  Yuzvendra Chahal    20000000    180000000          Capped"
      ]
     },
     "execution_count": 32,
     "metadata": {},
     "output_type": "execute_result"
    }
   ],
   "source": [
    "df7=pd.read_csv('PBKS_Players_List.csv')\n",
    "df7.head(2)"
   ]
  },
  {
   "cell_type": "code",
   "execution_count": 33,
   "metadata": {},
   "outputs": [
    {
     "data": {
      "text/plain": [
       "Sr. No.            0\n",
       "Player             0\n",
       "Base Price         0\n",
       "Winning Bid        0\n",
       "Capped/Uncapped    0\n",
       "dtype: int64"
      ]
     },
     "execution_count": 33,
     "metadata": {},
     "output_type": "execute_result"
    }
   ],
   "source": [
    "df7.isnull().sum()"
   ]
  },
  {
   "cell_type": "code",
   "execution_count": 34,
   "metadata": {},
   "outputs": [
    {
     "data": {
      "text/plain": [
       "Sr. No.  Player              Base Price  Winning Bid  Capped/Uncapped\n",
       "1        Shreyas Iyer        20000000    267500000    Capped             1\n",
       "13       Yash Thakur         3000000     16000000     Uncapped           1\n",
       "22       Musheer Khan        3000000     3000000      Uncapped           1\n",
       "21       Suryansh Shedge     3000000     3000000      Uncapped           1\n",
       "20       Pyla Avinash        3000000     3000000      Uncapped           1\n",
       "19       Pravin Dubey        3000000     3000000      Uncapped           1\n",
       "18       Kuldeep Sen         7500000     8000000      Capped             1\n",
       "17       Xavier Bartlett     7500000     8000000      Capped             1\n",
       "16       Vishnu Vinod        3000000     9500000      Uncapped           1\n",
       "15       Aaron Hardie        12500000    12500000     Capped             1\n",
       "14       Harpreet Brar       3000000     15000000     Uncapped           1\n",
       "12       Vyshak Vijaykumar   3000000     18000000     Uncapped           1\n",
       "2        Yuzvendra Chahal    20000000    180000000    Capped             1\n",
       "11       Lockie Ferguson     20000000    20000000     Capped             1\n",
       "10       Azmatullah Omarzai  15000000    24000000     Capped             1\n",
       "9        Josh Inglis         20000000    26000000     Capped             1\n",
       "8        Priyansh Arya       3000000     38000000     Uncapped           1\n",
       "7        Glenn Maxwell       20000000    42000000     Capped             1\n",
       "6        Nehal Wadhera       3000000     42000000     Uncapped           1\n",
       "5        Marco Jansen        12500000    70000000     Capped             1\n",
       "4        Marcus Stoinis      20000000    110000000    Capped             1\n",
       "3        Arshdeep Singh      20000000    180000000    Capped             1\n",
       "23       Harnoor Pannu       3000000     3000000      Uncapped           1\n",
       "dtype: int64"
      ]
     },
     "execution_count": 34,
     "metadata": {},
     "output_type": "execute_result"
    }
   ],
   "source": [
    "df7.value_counts()"
   ]
  },
  {
   "cell_type": "code",
   "execution_count": 35,
   "metadata": {},
   "outputs": [
    {
     "data": {
      "text/html": [
       "<div>\n",
       "<style scoped>\n",
       "    .dataframe tbody tr th:only-of-type {\n",
       "        vertical-align: middle;\n",
       "    }\n",
       "\n",
       "    .dataframe tbody tr th {\n",
       "        vertical-align: top;\n",
       "    }\n",
       "\n",
       "    .dataframe thead th {\n",
       "        text-align: right;\n",
       "    }\n",
       "</style>\n",
       "<table border=\"1\" class=\"dataframe\">\n",
       "  <thead>\n",
       "    <tr style=\"text-align: right;\">\n",
       "      <th></th>\n",
       "      <th>Sr. No.</th>\n",
       "      <th>Base Price</th>\n",
       "      <th>Winning Bid</th>\n",
       "    </tr>\n",
       "  </thead>\n",
       "  <tbody>\n",
       "    <tr>\n",
       "      <th>count</th>\n",
       "      <td>23.00000</td>\n",
       "      <td>2.300000e+01</td>\n",
       "      <td>2.300000e+01</td>\n",
       "    </tr>\n",
       "    <tr>\n",
       "      <th>mean</th>\n",
       "      <td>12.00000</td>\n",
       "      <td>9.913043e+06</td>\n",
       "      <td>4.789130e+07</td>\n",
       "    </tr>\n",
       "    <tr>\n",
       "      <th>std</th>\n",
       "      <td>6.78233</td>\n",
       "      <td>7.653953e+06</td>\n",
       "      <td>7.021152e+07</td>\n",
       "    </tr>\n",
       "    <tr>\n",
       "      <th>min</th>\n",
       "      <td>1.00000</td>\n",
       "      <td>3.000000e+06</td>\n",
       "      <td>3.000000e+06</td>\n",
       "    </tr>\n",
       "    <tr>\n",
       "      <th>25%</th>\n",
       "      <td>6.50000</td>\n",
       "      <td>3.000000e+06</td>\n",
       "      <td>8.000000e+06</td>\n",
       "    </tr>\n",
       "    <tr>\n",
       "      <th>50%</th>\n",
       "      <td>12.00000</td>\n",
       "      <td>7.500000e+06</td>\n",
       "      <td>1.800000e+07</td>\n",
       "    </tr>\n",
       "    <tr>\n",
       "      <th>75%</th>\n",
       "      <td>17.50000</td>\n",
       "      <td>2.000000e+07</td>\n",
       "      <td>4.200000e+07</td>\n",
       "    </tr>\n",
       "    <tr>\n",
       "      <th>max</th>\n",
       "      <td>23.00000</td>\n",
       "      <td>2.000000e+07</td>\n",
       "      <td>2.675000e+08</td>\n",
       "    </tr>\n",
       "  </tbody>\n",
       "</table>\n",
       "</div>"
      ],
      "text/plain": [
       "        Sr. No.    Base Price   Winning Bid\n",
       "count  23.00000  2.300000e+01  2.300000e+01\n",
       "mean   12.00000  9.913043e+06  4.789130e+07\n",
       "std     6.78233  7.653953e+06  7.021152e+07\n",
       "min     1.00000  3.000000e+06  3.000000e+06\n",
       "25%     6.50000  3.000000e+06  8.000000e+06\n",
       "50%    12.00000  7.500000e+06  1.800000e+07\n",
       "75%    17.50000  2.000000e+07  4.200000e+07\n",
       "max    23.00000  2.000000e+07  2.675000e+08"
      ]
     },
     "execution_count": 35,
     "metadata": {},
     "output_type": "execute_result"
    }
   ],
   "source": [
    "df7.describe()"
   ]
  },
  {
   "cell_type": "code",
   "execution_count": 36,
   "metadata": {},
   "outputs": [
    {
     "name": "stdout",
     "output_type": "stream",
     "text": [
      "<class 'pandas.core.frame.DataFrame'>\n",
      "RangeIndex: 23 entries, 0 to 22\n",
      "Data columns (total 5 columns):\n",
      " #   Column           Non-Null Count  Dtype \n",
      "---  ------           --------------  ----- \n",
      " 0   Sr. No.          23 non-null     int64 \n",
      " 1   Player           23 non-null     object\n",
      " 2   Base Price       23 non-null     int64 \n",
      " 3   Winning Bid      23 non-null     int64 \n",
      " 4   Capped/Uncapped  23 non-null     object\n",
      "dtypes: int64(3), object(2)\n",
      "memory usage: 1.0+ KB\n"
     ]
    }
   ],
   "source": [
    "df7.info()"
   ]
  },
  {
   "cell_type": "code",
   "execution_count": 37,
   "metadata": {},
   "outputs": [
    {
     "data": {
      "text/html": [
       "<div>\n",
       "<style scoped>\n",
       "    .dataframe tbody tr th:only-of-type {\n",
       "        vertical-align: middle;\n",
       "    }\n",
       "\n",
       "    .dataframe tbody tr th {\n",
       "        vertical-align: top;\n",
       "    }\n",
       "\n",
       "    .dataframe thead th {\n",
       "        text-align: right;\n",
       "    }\n",
       "</style>\n",
       "<table border=\"1\" class=\"dataframe\">\n",
       "  <thead>\n",
       "    <tr style=\"text-align: right;\">\n",
       "      <th></th>\n",
       "      <th>Sr. No.</th>\n",
       "      <th>Player</th>\n",
       "      <th>Base Price</th>\n",
       "      <th>Winning Bid</th>\n",
       "      <th>Capped/Uncapped</th>\n",
       "    </tr>\n",
       "  </thead>\n",
       "  <tbody>\n",
       "    <tr>\n",
       "      <th>0</th>\n",
       "      <td>1</td>\n",
       "      <td>Josh Hazlewood</td>\n",
       "      <td>200000000</td>\n",
       "      <td>1250000000</td>\n",
       "      <td>Capped</td>\n",
       "    </tr>\n",
       "    <tr>\n",
       "      <th>1</th>\n",
       "      <td>2</td>\n",
       "      <td>Phil Salt</td>\n",
       "      <td>200000000</td>\n",
       "      <td>1150000000</td>\n",
       "      <td>Capped</td>\n",
       "    </tr>\n",
       "  </tbody>\n",
       "</table>\n",
       "</div>"
      ],
      "text/plain": [
       "   Sr. No.           Player  Base Price  Winning Bid Capped/Uncapped\n",
       "0        1  Josh Hazlewood    200000000   1250000000          Capped\n",
       "1        2       Phil Salt    200000000   1150000000          Capped"
      ]
     },
     "execution_count": 37,
     "metadata": {},
     "output_type": "execute_result"
    }
   ],
   "source": [
    "df8=pd.read_csv('RCB_Players_List.csv')\n",
    "df8.head(2)"
   ]
  },
  {
   "cell_type": "code",
   "execution_count": 38,
   "metadata": {},
   "outputs": [
    {
     "data": {
      "text/plain": [
       "Sr. No.            0\n",
       "Player             0\n",
       "Base Price         0\n",
       "Winning Bid        0\n",
       "Capped/Uncapped    0\n",
       "dtype: int64"
      ]
     },
     "execution_count": 38,
     "metadata": {},
     "output_type": "execute_result"
    }
   ],
   "source": [
    "df8.isnull().sum()"
   ]
  },
  {
   "cell_type": "code",
   "execution_count": 39,
   "metadata": {},
   "outputs": [
    {
     "data": {
      "text/plain": [
       "Sr. No.  Player             Base Price  Winning Bid  Capped/Uncapped\n",
       "1        Josh Hazlewood     200000000   1250000000   Capped             1\n",
       "11       Devdutt Padikkal   200000000   200000000    Capped             1\n",
       "18       Swastik Chhikara   30000000    30000000     Uncapped           1\n",
       "17       Abhinandan Singh   30000000    30000000     Uncapped           1\n",
       "16       Mohit Rathee       30000000    30000000     Uncapped           1\n",
       "15       Swapnil Singh      30000000    50000000     Uncapped           1\n",
       "14       Lungisani Ngidi    100000000   100000000    Capped             1\n",
       "13       Romario Shepherd   150000000   150000000    Capped             1\n",
       "12       Nuwan Thushara     75000000    160000000    Capped             1\n",
       "10       Suyash Sharma      30000000    260000000    Uncapped           1\n",
       "2        Phil Salt          200000000   1150000000   Capped             1\n",
       "9        Jacob Bethell      125000000   260000000    Capped             1\n",
       "8        Tim David          200000000   300000000    Capped             1\n",
       "7        Krunal Pandya      200000000   575000000    Capped             1\n",
       "6        Rasikh Dar         30000000    600000000    Uncapped           1\n",
       "5        Liam Livingstone   200000000   875000000    Capped             1\n",
       "4        Bhuvneshwar Kumar  200000000   1075000000   Capped             1\n",
       "3        Jitesh Sharma      100000000   1100000000   Capped             1\n",
       "19       Manoj Bhandage     30000000    30000000     Uncapped           1\n",
       "dtype: int64"
      ]
     },
     "execution_count": 39,
     "metadata": {},
     "output_type": "execute_result"
    }
   ],
   "source": [
    "df8.value_counts()"
   ]
  },
  {
   "cell_type": "code",
   "execution_count": 40,
   "metadata": {},
   "outputs": [
    {
     "data": {
      "text/html": [
       "<div>\n",
       "<style scoped>\n",
       "    .dataframe tbody tr th:only-of-type {\n",
       "        vertical-align: middle;\n",
       "    }\n",
       "\n",
       "    .dataframe tbody tr th {\n",
       "        vertical-align: top;\n",
       "    }\n",
       "\n",
       "    .dataframe thead th {\n",
       "        text-align: right;\n",
       "    }\n",
       "</style>\n",
       "<table border=\"1\" class=\"dataframe\">\n",
       "  <thead>\n",
       "    <tr style=\"text-align: right;\">\n",
       "      <th></th>\n",
       "      <th>Sr. No.</th>\n",
       "      <th>Base Price</th>\n",
       "      <th>Winning Bid</th>\n",
       "    </tr>\n",
       "  </thead>\n",
       "  <tbody>\n",
       "    <tr>\n",
       "      <th>count</th>\n",
       "      <td>19.000000</td>\n",
       "      <td>1.900000e+01</td>\n",
       "      <td>1.900000e+01</td>\n",
       "    </tr>\n",
       "    <tr>\n",
       "      <th>mean</th>\n",
       "      <td>10.000000</td>\n",
       "      <td>1.136842e+08</td>\n",
       "      <td>4.328947e+08</td>\n",
       "    </tr>\n",
       "    <tr>\n",
       "      <th>std</th>\n",
       "      <td>5.627314</td>\n",
       "      <td>7.619132e+07</td>\n",
       "      <td>4.394261e+08</td>\n",
       "    </tr>\n",
       "    <tr>\n",
       "      <th>min</th>\n",
       "      <td>1.000000</td>\n",
       "      <td>3.000000e+07</td>\n",
       "      <td>3.000000e+07</td>\n",
       "    </tr>\n",
       "    <tr>\n",
       "      <th>25%</th>\n",
       "      <td>5.500000</td>\n",
       "      <td>3.000000e+07</td>\n",
       "      <td>7.500000e+07</td>\n",
       "    </tr>\n",
       "    <tr>\n",
       "      <th>50%</th>\n",
       "      <td>10.000000</td>\n",
       "      <td>1.000000e+08</td>\n",
       "      <td>2.600000e+08</td>\n",
       "    </tr>\n",
       "    <tr>\n",
       "      <th>75%</th>\n",
       "      <td>14.500000</td>\n",
       "      <td>2.000000e+08</td>\n",
       "      <td>7.375000e+08</td>\n",
       "    </tr>\n",
       "    <tr>\n",
       "      <th>max</th>\n",
       "      <td>19.000000</td>\n",
       "      <td>2.000000e+08</td>\n",
       "      <td>1.250000e+09</td>\n",
       "    </tr>\n",
       "  </tbody>\n",
       "</table>\n",
       "</div>"
      ],
      "text/plain": [
       "         Sr. No.    Base Price   Winning Bid\n",
       "count  19.000000  1.900000e+01  1.900000e+01\n",
       "mean   10.000000  1.136842e+08  4.328947e+08\n",
       "std     5.627314  7.619132e+07  4.394261e+08\n",
       "min     1.000000  3.000000e+07  3.000000e+07\n",
       "25%     5.500000  3.000000e+07  7.500000e+07\n",
       "50%    10.000000  1.000000e+08  2.600000e+08\n",
       "75%    14.500000  2.000000e+08  7.375000e+08\n",
       "max    19.000000  2.000000e+08  1.250000e+09"
      ]
     },
     "execution_count": 40,
     "metadata": {},
     "output_type": "execute_result"
    }
   ],
   "source": [
    "df8.describe()"
   ]
  },
  {
   "cell_type": "code",
   "execution_count": 41,
   "metadata": {},
   "outputs": [
    {
     "name": "stdout",
     "output_type": "stream",
     "text": [
      "<class 'pandas.core.frame.DataFrame'>\n",
      "RangeIndex: 19 entries, 0 to 18\n",
      "Data columns (total 5 columns):\n",
      " #   Column           Non-Null Count  Dtype \n",
      "---  ------           --------------  ----- \n",
      " 0   Sr. No.          19 non-null     int64 \n",
      " 1   Player           19 non-null     object\n",
      " 2   Base Price       19 non-null     int64 \n",
      " 3   Winning Bid      19 non-null     int64 \n",
      " 4   Capped/Uncapped  19 non-null     object\n",
      "dtypes: int64(3), object(2)\n",
      "memory usage: 892.0+ bytes\n"
     ]
    }
   ],
   "source": [
    "df8.info()"
   ]
  },
  {
   "cell_type": "code",
   "execution_count": 42,
   "metadata": {},
   "outputs": [
    {
     "data": {
      "text/html": [
       "<div>\n",
       "<style scoped>\n",
       "    .dataframe tbody tr th:only-of-type {\n",
       "        vertical-align: middle;\n",
       "    }\n",
       "\n",
       "    .dataframe tbody tr th {\n",
       "        vertical-align: top;\n",
       "    }\n",
       "\n",
       "    .dataframe thead th {\n",
       "        text-align: right;\n",
       "    }\n",
       "</style>\n",
       "<table border=\"1\" class=\"dataframe\">\n",
       "  <thead>\n",
       "    <tr style=\"text-align: right;\">\n",
       "      <th></th>\n",
       "      <th>Sr. No.</th>\n",
       "      <th>Player</th>\n",
       "      <th>Base Price</th>\n",
       "      <th>Winning Bid</th>\n",
       "      <th>Capped/Uncapped</th>\n",
       "    </tr>\n",
       "  </thead>\n",
       "  <tbody>\n",
       "    <tr>\n",
       "      <th>0</th>\n",
       "      <td>1</td>\n",
       "      <td>Jofra Archer</td>\n",
       "      <td>200000000</td>\n",
       "      <td>1250000000</td>\n",
       "      <td>Capped</td>\n",
       "    </tr>\n",
       "    <tr>\n",
       "      <th>1</th>\n",
       "      <td>2</td>\n",
       "      <td>Tushar Deshpande</td>\n",
       "      <td>100000000</td>\n",
       "      <td>650000000</td>\n",
       "      <td>Capped</td>\n",
       "    </tr>\n",
       "  </tbody>\n",
       "</table>\n",
       "</div>"
      ],
      "text/plain": [
       "   Sr. No.            Player  Base Price  Winning Bid Capped/Uncapped\n",
       "0        1      Jofra Archer   200000000   1250000000          Capped\n",
       "1        2  Tushar Deshpande   100000000    650000000          Capped"
      ]
     },
     "execution_count": 42,
     "metadata": {},
     "output_type": "execute_result"
    }
   ],
   "source": [
    "df9=pd.read_csv('RR_Players_List.csv')\n",
    "df9.head(2)"
   ]
  },
  {
   "cell_type": "code",
   "execution_count": 43,
   "metadata": {},
   "outputs": [
    {
     "data": {
      "text/plain": [
       "Sr. No.            0\n",
       "Player             0\n",
       "Base Price         0\n",
       "Winning Bid        0\n",
       "Capped/Uncapped    0\n",
       "dtype: int64"
      ]
     },
     "execution_count": 43,
     "metadata": {},
     "output_type": "execute_result"
    }
   ],
   "source": [
    "df9.isnull().sum()"
   ]
  },
  {
   "cell_type": "code",
   "execution_count": 44,
   "metadata": {},
   "outputs": [
    {
     "data": {
      "text/plain": [
       "Sr. No.  Player                 Base Price  Winning Bid  Capped/Uncapped\n",
       "1        Jofra Archer           200000000   1250000000   Capped             1\n",
       "2        Tushar Deshpande       100000000   650000000    Capped             1\n",
       "3        Wanindu Hasaranga      200000000   525000000    Capped             1\n",
       "4        Maheesh Theekshana     200000000   440000000    Capped             1\n",
       "5        Nitish Rana            150000000   420000000    Capped             1\n",
       "6        Fazalhaq Farooqi       200000000   200000000    Capped             1\n",
       "7        Kwena Maphaka          75000000    150000000    Capped             1\n",
       "8        Akash Madhwal          30000000    120000000    Uncapped           1\n",
       "9        Vaibhav Suryavanshi    30000000    110000000    Uncapped           1\n",
       "10       Shubham Dubey          30000000    80000000     Uncapped           1\n",
       "11       Yudhvir Charak         30000000    35000000     Uncapped           1\n",
       "12       Ashok Sharma           30000000    30000000     Uncapped           1\n",
       "13       Kunal Rathore          30000000    30000000     Uncapped           1\n",
       "14       Kumar Kartikeya Singh  30000000    30000000     Uncapped           1\n",
       "dtype: int64"
      ]
     },
     "execution_count": 44,
     "metadata": {},
     "output_type": "execute_result"
    }
   ],
   "source": [
    "df9.value_counts()"
   ]
  },
  {
   "cell_type": "code",
   "execution_count": 45,
   "metadata": {},
   "outputs": [
    {
     "data": {
      "text/html": [
       "<div>\n",
       "<style scoped>\n",
       "    .dataframe tbody tr th:only-of-type {\n",
       "        vertical-align: middle;\n",
       "    }\n",
       "\n",
       "    .dataframe tbody tr th {\n",
       "        vertical-align: top;\n",
       "    }\n",
       "\n",
       "    .dataframe thead th {\n",
       "        text-align: right;\n",
       "    }\n",
       "</style>\n",
       "<table border=\"1\" class=\"dataframe\">\n",
       "  <thead>\n",
       "    <tr style=\"text-align: right;\">\n",
       "      <th></th>\n",
       "      <th>Sr. No.</th>\n",
       "      <th>Base Price</th>\n",
       "      <th>Winning Bid</th>\n",
       "    </tr>\n",
       "  </thead>\n",
       "  <tbody>\n",
       "    <tr>\n",
       "      <th>count</th>\n",
       "      <td>14.0000</td>\n",
       "      <td>1.400000e+01</td>\n",
       "      <td>1.400000e+01</td>\n",
       "    </tr>\n",
       "    <tr>\n",
       "      <th>mean</th>\n",
       "      <td>7.5000</td>\n",
       "      <td>9.535714e+07</td>\n",
       "      <td>2.907143e+08</td>\n",
       "    </tr>\n",
       "    <tr>\n",
       "      <th>std</th>\n",
       "      <td>4.1833</td>\n",
       "      <td>7.702308e+07</td>\n",
       "      <td>3.449351e+08</td>\n",
       "    </tr>\n",
       "    <tr>\n",
       "      <th>min</th>\n",
       "      <td>1.0000</td>\n",
       "      <td>3.000000e+07</td>\n",
       "      <td>3.000000e+07</td>\n",
       "    </tr>\n",
       "    <tr>\n",
       "      <th>25%</th>\n",
       "      <td>4.2500</td>\n",
       "      <td>3.000000e+07</td>\n",
       "      <td>4.625000e+07</td>\n",
       "    </tr>\n",
       "    <tr>\n",
       "      <th>50%</th>\n",
       "      <td>7.5000</td>\n",
       "      <td>5.250000e+07</td>\n",
       "      <td>1.350000e+08</td>\n",
       "    </tr>\n",
       "    <tr>\n",
       "      <th>75%</th>\n",
       "      <td>10.7500</td>\n",
       "      <td>1.875000e+08</td>\n",
       "      <td>4.350000e+08</td>\n",
       "    </tr>\n",
       "    <tr>\n",
       "      <th>max</th>\n",
       "      <td>14.0000</td>\n",
       "      <td>2.000000e+08</td>\n",
       "      <td>1.250000e+09</td>\n",
       "    </tr>\n",
       "  </tbody>\n",
       "</table>\n",
       "</div>"
      ],
      "text/plain": [
       "       Sr. No.    Base Price   Winning Bid\n",
       "count  14.0000  1.400000e+01  1.400000e+01\n",
       "mean    7.5000  9.535714e+07  2.907143e+08\n",
       "std     4.1833  7.702308e+07  3.449351e+08\n",
       "min     1.0000  3.000000e+07  3.000000e+07\n",
       "25%     4.2500  3.000000e+07  4.625000e+07\n",
       "50%     7.5000  5.250000e+07  1.350000e+08\n",
       "75%    10.7500  1.875000e+08  4.350000e+08\n",
       "max    14.0000  2.000000e+08  1.250000e+09"
      ]
     },
     "execution_count": 45,
     "metadata": {},
     "output_type": "execute_result"
    }
   ],
   "source": [
    "df9.describe()"
   ]
  },
  {
   "cell_type": "code",
   "execution_count": 46,
   "metadata": {},
   "outputs": [
    {
     "name": "stdout",
     "output_type": "stream",
     "text": [
      "<class 'pandas.core.frame.DataFrame'>\n",
      "RangeIndex: 14 entries, 0 to 13\n",
      "Data columns (total 5 columns):\n",
      " #   Column           Non-Null Count  Dtype \n",
      "---  ------           --------------  ----- \n",
      " 0   Sr. No.          14 non-null     int64 \n",
      " 1   Player           14 non-null     object\n",
      " 2   Base Price       14 non-null     int64 \n",
      " 3   Winning Bid      14 non-null     int64 \n",
      " 4   Capped/Uncapped  14 non-null     object\n",
      "dtypes: int64(3), object(2)\n",
      "memory usage: 692.0+ bytes\n"
     ]
    }
   ],
   "source": [
    "df9.info()"
   ]
  },
  {
   "cell_type": "code",
   "execution_count": 47,
   "metadata": {},
   "outputs": [
    {
     "data": {
      "text/html": [
       "<div>\n",
       "<style scoped>\n",
       "    .dataframe tbody tr th:only-of-type {\n",
       "        vertical-align: middle;\n",
       "    }\n",
       "\n",
       "    .dataframe tbody tr th {\n",
       "        vertical-align: top;\n",
       "    }\n",
       "\n",
       "    .dataframe thead th {\n",
       "        text-align: right;\n",
       "    }\n",
       "</style>\n",
       "<table border=\"1\" class=\"dataframe\">\n",
       "  <thead>\n",
       "    <tr style=\"text-align: right;\">\n",
       "      <th></th>\n",
       "      <th>Sr. No.</th>\n",
       "      <th>Player</th>\n",
       "      <th>Base Price</th>\n",
       "      <th>Winning Bid</th>\n",
       "      <th>Capped/Uncapped</th>\n",
       "    </tr>\n",
       "  </thead>\n",
       "  <tbody>\n",
       "    <tr>\n",
       "      <th>0</th>\n",
       "      <td>1</td>\n",
       "      <td>Ishan Kishan</td>\n",
       "      <td>200000000</td>\n",
       "      <td>1125000000</td>\n",
       "      <td>Capped</td>\n",
       "    </tr>\n",
       "    <tr>\n",
       "      <th>1</th>\n",
       "      <td>2</td>\n",
       "      <td>Mohammad Shami</td>\n",
       "      <td>200000000</td>\n",
       "      <td>1000000000</td>\n",
       "      <td>Capped</td>\n",
       "    </tr>\n",
       "  </tbody>\n",
       "</table>\n",
       "</div>"
      ],
      "text/plain": [
       "   Sr. No.          Player  Base Price  Winning Bid Capped/Uncapped\n",
       "0        1    Ishan Kishan   200000000   1125000000          Capped\n",
       "1        2  Mohammad Shami   200000000   1000000000          Capped"
      ]
     },
     "execution_count": 47,
     "metadata": {},
     "output_type": "execute_result"
    }
   ],
   "source": [
    "df10=pd.read_csv('SRH_Players_List.csv')\n",
    "df10.head(2)"
   ]
  },
  {
   "cell_type": "code",
   "execution_count": 48,
   "metadata": {},
   "outputs": [
    {
     "data": {
      "text/plain": [
       "Sr. No.            0\n",
       "Player             0\n",
       "Base Price         0\n",
       "Winning Bid        0\n",
       "Capped/Uncapped    0\n",
       "dtype: int64"
      ]
     },
     "execution_count": 48,
     "metadata": {},
     "output_type": "execute_result"
    }
   ],
   "source": [
    "df10.isnull().sum()"
   ]
  },
  {
   "cell_type": "code",
   "execution_count": 49,
   "metadata": {},
   "outputs": [
    {
     "data": {
      "text/plain": [
       "Sr. No.  Player           Base Price  Winning Bid  Capped/Uncapped\n",
       "1        Ishan Kishan     200000000   1125000000   Capped             1\n",
       "2        Mohammad Shami   200000000   1000000000   Capped             1\n",
       "3        Harshal Patel    200000000   800000000    Capped             1\n",
       "4        Abhinav Manohar  30000000    320000000    Uncapped           1\n",
       "5        Rahul Chahar     100000000   320000000    Capped             1\n",
       "6        Adam Zampa       200000000   240000000    Capped             1\n",
       "7        Simarjeet Singh  30000000    150000000    Uncapped           1\n",
       "8        Eshan Malinga    30000000    120000000    Uncapped           1\n",
       "9        Brydon Carse     100000000   100000000    Capped             1\n",
       "10       Jaydev Unadkat   100000000   100000000    Capped             1\n",
       "11       Kamindu Mendis   75000000    75000000     Capped             1\n",
       "12       Zeeshan Ansari   30000000    40000000     Uncapped           1\n",
       "13       Sachin Baby      30000000    30000000     Uncapped           1\n",
       "14       Aniket Verma     30000000    30000000     Uncapped           1\n",
       "15       Atharva Taide    30000000    30000000     Uncapped           1\n",
       "dtype: int64"
      ]
     },
     "execution_count": 49,
     "metadata": {},
     "output_type": "execute_result"
    }
   ],
   "source": [
    "df10.value_counts()"
   ]
  },
  {
   "cell_type": "code",
   "execution_count": 50,
   "metadata": {},
   "outputs": [
    {
     "data": {
      "text/html": [
       "<div>\n",
       "<style scoped>\n",
       "    .dataframe tbody tr th:only-of-type {\n",
       "        vertical-align: middle;\n",
       "    }\n",
       "\n",
       "    .dataframe tbody tr th {\n",
       "        vertical-align: top;\n",
       "    }\n",
       "\n",
       "    .dataframe thead th {\n",
       "        text-align: right;\n",
       "    }\n",
       "</style>\n",
       "<table border=\"1\" class=\"dataframe\">\n",
       "  <thead>\n",
       "    <tr style=\"text-align: right;\">\n",
       "      <th></th>\n",
       "      <th>Sr. No.</th>\n",
       "      <th>Base Price</th>\n",
       "      <th>Winning Bid</th>\n",
       "    </tr>\n",
       "  </thead>\n",
       "  <tbody>\n",
       "    <tr>\n",
       "      <th>count</th>\n",
       "      <td>15.000000</td>\n",
       "      <td>1.500000e+01</td>\n",
       "      <td>1.500000e+01</td>\n",
       "    </tr>\n",
       "    <tr>\n",
       "      <th>mean</th>\n",
       "      <td>8.000000</td>\n",
       "      <td>9.233333e+07</td>\n",
       "      <td>2.986667e+08</td>\n",
       "    </tr>\n",
       "    <tr>\n",
       "      <th>std</th>\n",
       "      <td>4.472136</td>\n",
       "      <td>7.272420e+07</td>\n",
       "      <td>3.680861e+08</td>\n",
       "    </tr>\n",
       "    <tr>\n",
       "      <th>min</th>\n",
       "      <td>1.000000</td>\n",
       "      <td>3.000000e+07</td>\n",
       "      <td>3.000000e+07</td>\n",
       "    </tr>\n",
       "    <tr>\n",
       "      <th>25%</th>\n",
       "      <td>4.500000</td>\n",
       "      <td>3.000000e+07</td>\n",
       "      <td>5.750000e+07</td>\n",
       "    </tr>\n",
       "    <tr>\n",
       "      <th>50%</th>\n",
       "      <td>8.000000</td>\n",
       "      <td>7.500000e+07</td>\n",
       "      <td>1.200000e+08</td>\n",
       "    </tr>\n",
       "    <tr>\n",
       "      <th>75%</th>\n",
       "      <td>11.500000</td>\n",
       "      <td>1.500000e+08</td>\n",
       "      <td>3.200000e+08</td>\n",
       "    </tr>\n",
       "    <tr>\n",
       "      <th>max</th>\n",
       "      <td>15.000000</td>\n",
       "      <td>2.000000e+08</td>\n",
       "      <td>1.125000e+09</td>\n",
       "    </tr>\n",
       "  </tbody>\n",
       "</table>\n",
       "</div>"
      ],
      "text/plain": [
       "         Sr. No.    Base Price   Winning Bid\n",
       "count  15.000000  1.500000e+01  1.500000e+01\n",
       "mean    8.000000  9.233333e+07  2.986667e+08\n",
       "std     4.472136  7.272420e+07  3.680861e+08\n",
       "min     1.000000  3.000000e+07  3.000000e+07\n",
       "25%     4.500000  3.000000e+07  5.750000e+07\n",
       "50%     8.000000  7.500000e+07  1.200000e+08\n",
       "75%    11.500000  1.500000e+08  3.200000e+08\n",
       "max    15.000000  2.000000e+08  1.125000e+09"
      ]
     },
     "execution_count": 50,
     "metadata": {},
     "output_type": "execute_result"
    }
   ],
   "source": [
    "df10.describe()"
   ]
  },
  {
   "cell_type": "code",
   "execution_count": 51,
   "metadata": {},
   "outputs": [
    {
     "name": "stdout",
     "output_type": "stream",
     "text": [
      "<class 'pandas.core.frame.DataFrame'>\n",
      "RangeIndex: 15 entries, 0 to 14\n",
      "Data columns (total 5 columns):\n",
      " #   Column           Non-Null Count  Dtype \n",
      "---  ------           --------------  ----- \n",
      " 0   Sr. No.          15 non-null     int64 \n",
      " 1   Player           15 non-null     object\n",
      " 2   Base Price       15 non-null     int64 \n",
      " 3   Winning Bid      15 non-null     int64 \n",
      " 4   Capped/Uncapped  15 non-null     object\n",
      "dtypes: int64(3), object(2)\n",
      "memory usage: 732.0+ bytes\n"
     ]
    }
   ],
   "source": [
    "df10.info()"
   ]
  },
  {
   "cell_type": "markdown",
   "metadata": {},
   "source": [
    "### Merged all the Dataframes into a single dataframe for futher Analysis"
   ]
  },
  {
   "cell_type": "code",
   "execution_count": 52,
   "metadata": {},
   "outputs": [],
   "source": [
    "teams=[df1,df2,df3,df4,df5,df6,df7,df8,df9,df10]"
   ]
  },
  {
   "cell_type": "code",
   "execution_count": 53,
   "metadata": {},
   "outputs": [],
   "source": [
    "df_team1=[(i) for i in teams]\n",
    "merged_team1=pd.concat(df_team1, ignore_index=True)\n"
   ]
  },
  {
   "cell_type": "code",
   "execution_count": 54,
   "metadata": {},
   "outputs": [
    {
     "data": {
      "text/plain": [
       "(182, 5)"
      ]
     },
     "execution_count": 54,
     "metadata": {},
     "output_type": "execute_result"
    }
   ],
   "source": [
    "merged_team1.shape"
   ]
  },
  {
   "cell_type": "code",
   "execution_count": 55,
   "metadata": {},
   "outputs": [],
   "source": [
    "merged_team1.to_csv('merged_dataset.csv', index=False)"
   ]
  },
  {
   "cell_type": "code",
   "execution_count": 56,
   "metadata": {},
   "outputs": [
    {
     "name": "stdout",
     "output_type": "stream",
     "text": [
      "     Sr. No.                Player  Base Price  Winning Bid Capped/Uncapped\n",
      "0          1            Noor Ahmad    20000000    100000000          Capped\n",
      "1          2  Ravichandaran Ashwin    20000000     97500000          Capped\n",
      "2          3          Devon Conway    20000000     62500000          Capped\n",
      "3          4    Syed Khaleel Ahmed    20000000     48000000          Capped\n",
      "4          5       Rachin Ravindra    15000000     40000000          Capped\n",
      "..       ...                   ...         ...          ...             ...\n",
      "177       11       Kamindu Mendis     75000000     75000000          Capped\n",
      "178       12        Zeeshan Ansari    30000000     40000000        Uncapped\n",
      "179       13           Sachin Baby    30000000     30000000        Uncapped\n",
      "180       14          Aniket Verma    30000000     30000000        Uncapped\n",
      "181       15         Atharva Taide    30000000     30000000        Uncapped\n",
      "\n",
      "[182 rows x 5 columns]\n"
     ]
    }
   ],
   "source": [
    "print(merged_team1)"
   ]
  },
  {
   "cell_type": "code",
   "execution_count": 57,
   "metadata": {},
   "outputs": [
    {
     "data": {
      "text/plain": [
       "Sr. No.  Player              Base Price  Winning Bid  Capped/Uncapped\n",
       "1        Ishan Kishan        200000000   1125000000   Capped             1\n",
       "12       Manish Pandey       7500000     7500000      Capped             1\n",
       "         Nuwan Thushara      75000000    160000000    Capped             1\n",
       "         Vignesh Puthur      3000000     3000000      Uncapped           1\n",
       "         Vyshak Vijaykumar   3000000     18000000     Uncapped           1\n",
       "                                                                        ..\n",
       "7        Glenn Maxwell       20000000    42000000     Capped             1\n",
       "         Krunal Pandya       200000000   575000000    Capped             1\n",
       "         Kwena Maphaka       75000000    150000000    Capped             1\n",
       "         Rahmanullah Gurbaz  20000000    20000000     Capped             1\n",
       "23       Harnoor Pannu       3000000     3000000      Uncapped           1\n",
       "Length: 182, dtype: int64"
      ]
     },
     "execution_count": 57,
     "metadata": {},
     "output_type": "execute_result"
    }
   ],
   "source": [
    "merged_team1.value_counts()"
   ]
  },
  {
   "cell_type": "code",
   "execution_count": 58,
   "metadata": {},
   "outputs": [
    {
     "name": "stdout",
     "output_type": "stream",
     "text": [
      "<class 'pandas.core.frame.DataFrame'>\n",
      "RangeIndex: 182 entries, 0 to 181\n",
      "Data columns (total 5 columns):\n",
      " #   Column           Non-Null Count  Dtype \n",
      "---  ------           --------------  ----- \n",
      " 0   Sr. No.          182 non-null    int64 \n",
      " 1   Player           182 non-null    object\n",
      " 2   Base Price       182 non-null    int64 \n",
      " 3   Winning Bid      182 non-null    int64 \n",
      " 4   Capped/Uncapped  182 non-null    object\n",
      "dtypes: int64(3), object(2)\n",
      "memory usage: 7.2+ KB\n"
     ]
    }
   ],
   "source": [
    "merged_team1.info()"
   ]
  },
  {
   "cell_type": "code",
   "execution_count": 59,
   "metadata": {},
   "outputs": [
    {
     "data": {
      "text/plain": [
       "Sr. No.            0\n",
       "Player             0\n",
       "Base Price         0\n",
       "Winning Bid        0\n",
       "Capped/Uncapped    0\n",
       "dtype: int64"
      ]
     },
     "execution_count": 59,
     "metadata": {},
     "output_type": "execute_result"
    }
   ],
   "source": [
    "merged_team1.isnull().sum()"
   ]
  },
  {
   "cell_type": "code",
   "execution_count": 60,
   "metadata": {},
   "outputs": [
    {
     "data": {
      "text/html": [
       "<div>\n",
       "<style scoped>\n",
       "    .dataframe tbody tr th:only-of-type {\n",
       "        vertical-align: middle;\n",
       "    }\n",
       "\n",
       "    .dataframe tbody tr th {\n",
       "        vertical-align: top;\n",
       "    }\n",
       "\n",
       "    .dataframe thead th {\n",
       "        text-align: right;\n",
       "    }\n",
       "</style>\n",
       "<table border=\"1\" class=\"dataframe\">\n",
       "  <thead>\n",
       "    <tr style=\"text-align: right;\">\n",
       "      <th></th>\n",
       "      <th>Sr. No.</th>\n",
       "      <th>Base Price</th>\n",
       "      <th>Winning Bid</th>\n",
       "    </tr>\n",
       "  </thead>\n",
       "  <tbody>\n",
       "    <tr>\n",
       "      <th>count</th>\n",
       "      <td>182.000000</td>\n",
       "      <td>1.820000e+02</td>\n",
       "      <td>1.820000e+02</td>\n",
       "    </tr>\n",
       "    <tr>\n",
       "      <th>mean</th>\n",
       "      <td>9.791209</td>\n",
       "      <td>3.390385e+07</td>\n",
       "      <td>1.180714e+08</td>\n",
       "    </tr>\n",
       "    <tr>\n",
       "      <th>std</th>\n",
       "      <td>5.577216</td>\n",
       "      <td>5.596351e+07</td>\n",
       "      <td>2.463418e+08</td>\n",
       "    </tr>\n",
       "    <tr>\n",
       "      <th>min</th>\n",
       "      <td>1.000000</td>\n",
       "      <td>3.000000e+06</td>\n",
       "      <td>3.000000e+06</td>\n",
       "    </tr>\n",
       "    <tr>\n",
       "      <th>25%</th>\n",
       "      <td>5.000000</td>\n",
       "      <td>3.000000e+06</td>\n",
       "      <td>7.500000e+06</td>\n",
       "    </tr>\n",
       "    <tr>\n",
       "      <th>50%</th>\n",
       "      <td>10.000000</td>\n",
       "      <td>1.500000e+07</td>\n",
       "      <td>2.700000e+07</td>\n",
       "    </tr>\n",
       "    <tr>\n",
       "      <th>75%</th>\n",
       "      <td>14.000000</td>\n",
       "      <td>3.000000e+07</td>\n",
       "      <td>1.000000e+08</td>\n",
       "    </tr>\n",
       "    <tr>\n",
       "      <th>max</th>\n",
       "      <td>23.000000</td>\n",
       "      <td>2.000000e+08</td>\n",
       "      <td>1.250000e+09</td>\n",
       "    </tr>\n",
       "  </tbody>\n",
       "</table>\n",
       "</div>"
      ],
      "text/plain": [
       "          Sr. No.    Base Price   Winning Bid\n",
       "count  182.000000  1.820000e+02  1.820000e+02\n",
       "mean     9.791209  3.390385e+07  1.180714e+08\n",
       "std      5.577216  5.596351e+07  2.463418e+08\n",
       "min      1.000000  3.000000e+06  3.000000e+06\n",
       "25%      5.000000  3.000000e+06  7.500000e+06\n",
       "50%     10.000000  1.500000e+07  2.700000e+07\n",
       "75%     14.000000  3.000000e+07  1.000000e+08\n",
       "max     23.000000  2.000000e+08  1.250000e+09"
      ]
     },
     "execution_count": 60,
     "metadata": {},
     "output_type": "execute_result"
    }
   ],
   "source": [
    "merged_team1.describe()"
   ]
  },
  {
   "cell_type": "code",
   "execution_count": 61,
   "metadata": {},
   "outputs": [
    {
     "data": {
      "text/html": [
       "<div>\n",
       "<style scoped>\n",
       "    .dataframe tbody tr th:only-of-type {\n",
       "        vertical-align: middle;\n",
       "    }\n",
       "\n",
       "    .dataframe tbody tr th {\n",
       "        vertical-align: top;\n",
       "    }\n",
       "\n",
       "    .dataframe thead th {\n",
       "        text-align: right;\n",
       "    }\n",
       "</style>\n",
       "<table border=\"1\" class=\"dataframe\">\n",
       "  <thead>\n",
       "    <tr style=\"text-align: right;\">\n",
       "      <th></th>\n",
       "      <th>Sr. No.</th>\n",
       "      <th>Player</th>\n",
       "      <th>Base Price</th>\n",
       "      <th>Winning Bid</th>\n",
       "      <th>Capped/Uncapped</th>\n",
       "    </tr>\n",
       "  </thead>\n",
       "  <tbody>\n",
       "    <tr>\n",
       "      <th>0</th>\n",
       "      <td>1</td>\n",
       "      <td>Noor Ahmad</td>\n",
       "      <td>20000000</td>\n",
       "      <td>100000000</td>\n",
       "      <td>Capped</td>\n",
       "    </tr>\n",
       "    <tr>\n",
       "      <th>1</th>\n",
       "      <td>2</td>\n",
       "      <td>Ravichandaran Ashwin</td>\n",
       "      <td>20000000</td>\n",
       "      <td>97500000</td>\n",
       "      <td>Capped</td>\n",
       "    </tr>\n",
       "  </tbody>\n",
       "</table>\n",
       "</div>"
      ],
      "text/plain": [
       "   Sr. No.                Player  Base Price  Winning Bid Capped/Uncapped\n",
       "0        1            Noor Ahmad    20000000    100000000          Capped\n",
       "1        2  Ravichandaran Ashwin    20000000     97500000          Capped"
      ]
     },
     "execution_count": 61,
     "metadata": {},
     "output_type": "execute_result"
    }
   ],
   "source": [
    "merged_team1.head(2)"
   ]
  },
  {
   "cell_type": "markdown",
   "metadata": {},
   "source": [
    "##### 1. Analyzing Winning bids by Player's status."
   ]
  },
  {
   "cell_type": "code",
   "execution_count": 62,
   "metadata": {},
   "outputs": [],
   "source": [
    "merged_team1['Winning Bid']=pd.to_numeric(merged_team1['Winning Bid'],errors='coerce')\n",
    "status=merged_team1.groupby('Capped/Uncapped')['Winning Bid'].describe()"
   ]
  },
  {
   "cell_type": "code",
   "execution_count": 63,
   "metadata": {},
   "outputs": [
    {
     "data": {
      "text/html": [
       "<div>\n",
       "<style scoped>\n",
       "    .dataframe tbody tr th:only-of-type {\n",
       "        vertical-align: middle;\n",
       "    }\n",
       "\n",
       "    .dataframe tbody tr th {\n",
       "        vertical-align: top;\n",
       "    }\n",
       "\n",
       "    .dataframe thead th {\n",
       "        text-align: right;\n",
       "    }\n",
       "</style>\n",
       "<table border=\"1\" class=\"dataframe\">\n",
       "  <thead>\n",
       "    <tr style=\"text-align: right;\">\n",
       "      <th></th>\n",
       "      <th>count</th>\n",
       "      <th>mean</th>\n",
       "      <th>std</th>\n",
       "      <th>min</th>\n",
       "      <th>25%</th>\n",
       "      <th>50%</th>\n",
       "      <th>75%</th>\n",
       "      <th>max</th>\n",
       "    </tr>\n",
       "    <tr>\n",
       "      <th>Capped/Uncapped</th>\n",
       "      <th></th>\n",
       "      <th></th>\n",
       "      <th></th>\n",
       "      <th></th>\n",
       "      <th></th>\n",
       "      <th></th>\n",
       "      <th></th>\n",
       "      <th></th>\n",
       "    </tr>\n",
       "  </thead>\n",
       "  <tbody>\n",
       "    <tr>\n",
       "      <th>Capped</th>\n",
       "      <td>97.0</td>\n",
       "      <td>1.926340e+08</td>\n",
       "      <td>3.111241e+08</td>\n",
       "      <td>7500000.0</td>\n",
       "      <td>20000000.0</td>\n",
       "      <td>75000000.0</td>\n",
       "      <td>180000000.0</td>\n",
       "      <td>1.250000e+09</td>\n",
       "    </tr>\n",
       "    <tr>\n",
       "      <th>Uncapped</th>\n",
       "      <td>85.0</td>\n",
       "      <td>3.298235e+07</td>\n",
       "      <td>7.992092e+07</td>\n",
       "      <td>3000000.0</td>\n",
       "      <td>3000000.0</td>\n",
       "      <td>6500000.0</td>\n",
       "      <td>30000000.0</td>\n",
       "      <td>6.000000e+08</td>\n",
       "    </tr>\n",
       "  </tbody>\n",
       "</table>\n",
       "</div>"
      ],
      "text/plain": [
       "                 count          mean           std        min         25%  \\\n",
       "Capped/Uncapped                                                             \n",
       "Capped            97.0  1.926340e+08  3.111241e+08  7500000.0  20000000.0   \n",
       "Uncapped          85.0  3.298235e+07  7.992092e+07  3000000.0   3000000.0   \n",
       "\n",
       "                        50%          75%           max  \n",
       "Capped/Uncapped                                         \n",
       "Capped           75000000.0  180000000.0  1.250000e+09  \n",
       "Uncapped          6500000.0   30000000.0  6.000000e+08  "
      ]
     },
     "execution_count": 63,
     "metadata": {},
     "output_type": "execute_result"
    }
   ],
   "source": [
    "status"
   ]
  },
  {
   "cell_type": "markdown",
   "metadata": {},
   "source": [
    "##### 2. Visualisation of Winning Bids trends by Player's status"
   ]
  },
  {
   "cell_type": "code",
   "execution_count": 64,
   "metadata": {},
   "outputs": [
    {
     "data": {
      "text/html": [
       "<div>\n",
       "<style scoped>\n",
       "    .dataframe tbody tr th:only-of-type {\n",
       "        vertical-align: middle;\n",
       "    }\n",
       "\n",
       "    .dataframe tbody tr th {\n",
       "        vertical-align: top;\n",
       "    }\n",
       "\n",
       "    .dataframe thead th {\n",
       "        text-align: right;\n",
       "    }\n",
       "</style>\n",
       "<table border=\"1\" class=\"dataframe\">\n",
       "  <thead>\n",
       "    <tr style=\"text-align: right;\">\n",
       "      <th></th>\n",
       "      <th>Sr. No.</th>\n",
       "      <th>Player</th>\n",
       "      <th>Base Price</th>\n",
       "      <th>Winning Bid</th>\n",
       "      <th>Capped/Uncapped</th>\n",
       "    </tr>\n",
       "  </thead>\n",
       "  <tbody>\n",
       "    <tr>\n",
       "      <th>0</th>\n",
       "      <td>1</td>\n",
       "      <td>Noor Ahmad</td>\n",
       "      <td>20000000</td>\n",
       "      <td>100000000</td>\n",
       "      <td>Capped</td>\n",
       "    </tr>\n",
       "    <tr>\n",
       "      <th>1</th>\n",
       "      <td>2</td>\n",
       "      <td>Ravichandaran Ashwin</td>\n",
       "      <td>20000000</td>\n",
       "      <td>97500000</td>\n",
       "      <td>Capped</td>\n",
       "    </tr>\n",
       "  </tbody>\n",
       "</table>\n",
       "</div>"
      ],
      "text/plain": [
       "   Sr. No.                Player  Base Price  Winning Bid Capped/Uncapped\n",
       "0        1            Noor Ahmad    20000000    100000000          Capped\n",
       "1        2  Ravichandaran Ashwin    20000000     97500000          Capped"
      ]
     },
     "execution_count": 64,
     "metadata": {},
     "output_type": "execute_result"
    }
   ],
   "source": [
    "merged_team1.head(2)"
   ]
  },
  {
   "cell_type": "code",
   "execution_count": 65,
   "metadata": {},
   "outputs": [
    {
     "data": {
      "text/plain": [
       "<Figure size 1000x600 with 0 Axes>"
      ]
     },
     "metadata": {},
     "output_type": "display_data"
    },
    {
     "data": {
      "image/png": "[encoded data removed]",
      "text/plain": [
       "<Figure size 640x480 with 1 Axes>"
      ]
     },
     "metadata": {},
     "output_type": "display_data"
    }
   ],
   "source": [
    "plt.figure(figsize=(10,6))\n",
    "merged_team1.boxplot(column='Winning Bid',by='Capped/Uncapped')\n",
    "plt.title('Winning Bid trends by Player status')\n",
    "plt.suptitle(\" \")\n",
    "plt.xlabel(\"Player status\")\n",
    "plt.ylabel(\"Winning bids\")\n",
    "plt.xticks(rotation=0)\n",
    "plt.show()"
   ]
  },
  {
   "cell_type": "markdown",
   "metadata": {},
   "source": [
    "##### 3. Correlation Analysis (Base Price and Winning bid)"
   ]
  },
  {
   "cell_type": "code",
   "execution_count": 66,
   "metadata": {},
   "outputs": [],
   "source": [
    "corr_analysis=merged_team1[['Base Price','Winning Bid']].corr()"
   ]
  },
  {
   "cell_type": "code",
   "execution_count": 67,
   "metadata": {},
   "outputs": [
    {
     "data": {
      "image/png": "[encoded data removed]",
      "text/plain": [
       "<Figure size 600x600 with 2 Axes>"
      ]
     },
     "metadata": {},
     "output_type": "display_data"
    }
   ],
   "source": [
    "plt.figure(figsize=(6,6))\n",
    "sns.heatmap(corr_analysis,annot=True,cmap='coolwarm',fmt='.2f',cbar=True)\n",
    "plt.title(\"Correlation between Winning Bid and Base Price\")\n",
    "plt.show()"
   ]
  },
  {
   "cell_type": "code",
   "execution_count": 68,
   "metadata": {},
   "outputs": [],
   "source": [
    "# storing the dataframes in a dictionary for further analysis:\n",
    "\n",
    "T1={\n",
    "    \"CSK\":df1,\n",
    "    \"DC\":df2,\n",
    "    \"GT\":df3,\n",
    "    \"KKR\":df4,\n",
    "    \"LSG\":df5,\n",
    "    \"MI\":df6,\n",
    "    \"PBKS\":df7,\n",
    "    \"RCB\":df8,\n",
    "    \"RR\":df9,\n",
    "    \"SRH\":df10\n",
    "}"
   ]
  },
  {
   "cell_type": "code",
   "execution_count": 69,
   "metadata": {},
   "outputs": [
    {
     "data": {
      "text/plain": [
       "{'CSK':     Sr. No.                Player  Base Price  Winning Bid Capped/Uncapped\n",
       " 0         1            Noor Ahmad    20000000    100000000          Capped\n",
       " 1         2  Ravichandaran Ashwin    20000000     97500000          Capped\n",
       " 2         3          Devon Conway    20000000     62500000          Capped\n",
       " 3         4    Syed Khaleel Ahmed    20000000     48000000          Capped\n",
       " 4         5       Rachin Ravindra    15000000     40000000          Capped\n",
       " 5         6         Anshul Kamboj     3000000     34000000        Uncapped\n",
       " 6         7        Rahul Tripathi     7500000     34000000          Capped\n",
       " 7         8            Sam Curran    20000000     24000000          Capped\n",
       " 8         9      Gurjapneet Singh     3000000     22000000        Uncapped\n",
       " 9        10          Nathan Ellis    12500000     20000000          Capped\n",
       " 10       11          Deepak Hooda     7500000     17000000          Capped\n",
       " 11       12         Jamie Overton    15000000     15000000          Capped\n",
       " 12       13         Vijay Shankar     3000000     12000000        Uncapped\n",
       " 13       14            Vansh Bedi     3000000      5500000        Uncapped\n",
       " 14       15        Andre Siddarth     3000000      3000000        Uncapped\n",
       " 15       16         Shreyas Gopal     3000000      3000000        Uncapped\n",
       " 16       17     Ramakrishna Ghosh     3000000      3000000        Uncapped\n",
       " 17       18     Kamlesh Nagarkoti     3000000      3000000        Uncapped\n",
       " 18       19      Mukesh Choudhary     3000000      3000000        Uncapped\n",
       " 19       20         Shaik Rasheed     3000000      3000000        Uncapped,\n",
       " 'DC':     Sr. No.                  Player  Base Price  Winning Bid Capped/Uncapped\n",
       " 0         1                KL Rahul    20000000    140000000          Capped\n",
       " 1         2          Mitchell Starc    20000000    117500000          Capped\n",
       " 2         3            T. Natarajan    20000000    107500000          Capped\n",
       " 3         4  Jake Fraser-Mcgurk (R)    20000000     90000000          Capped\n",
       " 4         5        Mukesh Kumar (R)    20000000     80000000          Capped\n",
       " 5         6             Harry Brook    20000000     62500000          Capped\n",
       " 6         7         Ashutosh Sharma     3000000     38000000        Uncapped\n",
       " 7         8            Mohit Sharma     5000000     22000000        Uncapped\n",
       " 8         9          Faf Du Plessis    20000000     20000000          Capped\n",
       " 9        10            Sameer Rizvi     3000000      9500000        Uncapped\n",
       " 10       11        Donovan Ferreira     7500000      7500000          Capped\n",
       " 11       12     Dushmantha Chameera     7500000      7500000          Capped\n",
       " 12       13            Vipraj Nigam     3000000      5000000        Uncapped\n",
       " 13       14              Karun Nair     3000000      5000000        Uncapped\n",
       " 14       15           Madhav Tiwari     3000000      4000000        Uncapped\n",
       " 15       16         Tripurana Vijay     3000000      3000000        Uncapped\n",
       " 16       17        Manvanth Kumar L     3000000      3000000        Uncapped\n",
       " 17       18             Ajay Mandal     3000000      3000000        Uncapped\n",
       " 18       19        Darshan Nalkande     3000000      3000000        Uncapped,\n",
       " 'GT':     Sr. No.               Player  Base Price  Winning Bid Capped/Uncapped\n",
       " 0         1          Jos Buttler    20000000    157500000          Capped\n",
       " 1         2       Mohammad Siraj    20000000    122500000          Capped\n",
       " 2         3        Kagiso Rabada    20000000    107500000          Capped\n",
       " 3         4      Prasidh Krishna    20000000     95000000          Capped\n",
       " 4         5    Washington Sundar    20000000     32000000          Capped\n",
       " 5         6  Sherfane Rutherford    15000000     26000000          Capped\n",
       " 6         7       Gerald Coetzee    12500000     24000000          Capped\n",
       " 7         8       Glenn Phillips    20000000     20000000          Capped\n",
       " 8         9       R. Sai Kishore     7500000     20000000          Capped\n",
       " 9        10       Mahipal Lomror     5000000     17000000        Uncapped\n",
       " 10       11   Gurnoor Singh Brar     3000000     13000000        Uncapped\n",
       " 11       12    Mohd. Arshad Khan     3000000     13000000        Uncapped\n",
       " 12       13          Karim Janat     7500000      7500000          Capped\n",
       " 13       14         Jayant Yadav     7500000      7500000          Capped\n",
       " 14       15        Ishant Sharma     7500000      7500000          Capped\n",
       " 15       16       Kumar Kushagra     3000000      6500000        Uncapped\n",
       " 16       17   Kulwant Khejroliya     3000000      3000000        Uncapped\n",
       " 17       18         Manav Suthar     3000000      3000000        Uncapped\n",
       " 18       19           Anuj Rawat     3000000      3000000        Uncapped\n",
       " 19       20       Nishant Sindhu     3000000      3000000        Uncapped,\n",
       " 'KKR':     Sr. No.                Player  Base Price  Winning Bid Capped/Uncapped\n",
       " 0         1        Venkatesh Iyer    20000000    237500000          Capped\n",
       " 1         2         Anrich Nortje    20000000     65000000          Capped\n",
       " 2         3       Quinton De Kock    20000000     36000000          Capped\n",
       " 3         4  Angkrish Raghuvanshi     3000000     30000000        Uncapped\n",
       " 4         5       Spencer Johnson    20000000     28000000          Capped\n",
       " 5         6             Moeen Ali    20000000     20000000          Capped\n",
       " 6         7    Rahmanullah Gurbaz    20000000     20000000          Capped\n",
       " 7         8         Vaibhav Arora     3000000     18000000        Uncapped\n",
       " 8         9        Ajinkya Rahane    15000000     15000000          Capped\n",
       " 9        10         Rovman Powell    15000000     15000000          Capped\n",
       " 10       11           Umran Malik     7500000      7500000          Capped\n",
       " 11       12         Manish Pandey     7500000      7500000          Capped\n",
       " 12       13            Anukul Roy     3000000      4000000        Uncapped\n",
       " 13       14       Luvnith Sisodia     3000000      3000000        Uncapped\n",
       " 14       15       Mayank Markande     3000000      3000000        Uncapped,\n",
       " 'LSG':     Sr. No.                  Player  Base Price  Winning Bid Capped/Uncapped\n",
       " 0         1            Rishabh Pant    20000000    270000000          Capped\n",
       " 1         2              Avesh Khan    20000000     97500000          Capped\n",
       " 2         3              Akash Deep    10000000     80000000          Capped\n",
       " 3         4            David Miller    15000000     75000000          Capped\n",
       " 4         5             Abdul Samad     3000000     42000000        Uncapped\n",
       " 5         6          Mitchell Marsh    20000000     34000000          Capped\n",
       " 6         7          Shahbaz Ahamad    10000000     24000000          Capped\n",
       " 7         8           Aiden Markram    20000000     20000000          Capped\n",
       " 8         9        Matthew Breetzke     7500000      7500000          Capped\n",
       " 9        10           Shamar Joseph     7500000      7500000          Capped\n",
       " 10       11            M. Siddharth     3000000      7500000        Uncapped\n",
       " 11       12         Arshin Kulkarni     3000000      3000000        Uncapped\n",
       " 12       13  Rajvardhan Hangargekar     3000000      3000000        Uncapped\n",
       " 13       14        Yuvraj Chaudhary     3000000      3000000        Uncapped\n",
       " 14       15            Prince Yadav     3000000      3000000        Uncapped\n",
       " 15       16             Akash Singh     3000000      3000000        Uncapped\n",
       " 16       17           Digvesh Singh     3000000      3000000        Uncapped\n",
       " 17       18            Himmat Singh     3000000      3000000        Uncapped\n",
       " 18       19             Aryan Juyal     3000000      3000000        Uncapped,\n",
       " 'MI':     Sr. No.                          Player  Base Price  Winning Bid  \\\n",
       " 0         1                     Trent Boult    20000000    125000000   \n",
       " 1         2                   Deepak Chahar    20000000     92500000   \n",
       " 2         3                      Will Jacks    20000000     52500000   \n",
       " 3         4                      Naman Dhir     3000000     52500000   \n",
       " 4         5                 Allah Ghazanfar     7500000     48000000   \n",
       " 5         6                Mitchell Santner    20000000     20000000   \n",
       " 6         7                  Ryan Rickelton    10000000     10000000   \n",
       " 7         8                 Lizaad Williams     7500000      7500000   \n",
       " 8         9                    Reece Topley     7500000      7500000   \n",
       " 9        10                      Robin Minz     3000000      6500000   \n",
       " 10       11                     Karn Sharma     5000000      5000000   \n",
       " 11       12                  Vignesh Puthur     3000000      3000000   \n",
       " 12       13                 Arjun Tendulkar     3000000      3000000   \n",
       " 13       14               Bevan John Jacobs     3000000      3000000   \n",
       " 14       15  Venkata Satyanarayana Penmetsa     3000000      3000000   \n",
       " 15       16                  Raj Angad Bawa     3000000      3000000   \n",
       " 16       17               Shrijith Krishnan     3000000      3000000   \n",
       " 17       18                   Ashwani Kumar     3000000      3000000   \n",
       " \n",
       "    Capped/Uncapped  \n",
       " 0           Capped  \n",
       " 1           Capped  \n",
       " 2           Capped  \n",
       " 3         Uncapped  \n",
       " 4           Capped  \n",
       " 5           Capped  \n",
       " 6           Capped  \n",
       " 7           Capped  \n",
       " 8           Capped  \n",
       " 9         Uncapped  \n",
       " 10        Uncapped  \n",
       " 11        Uncapped  \n",
       " 12        Uncapped  \n",
       " 13        Uncapped  \n",
       " 14        Uncapped  \n",
       " 15        Uncapped  \n",
       " 16        Uncapped  \n",
       " 17        Uncapped  ,\n",
       " 'PBKS':     Sr. No.              Player  Base Price  Winning Bid Capped/Uncapped\n",
       " 0         1        Shreyas Iyer    20000000    267500000          Capped\n",
       " 1         2    Yuzvendra Chahal    20000000    180000000          Capped\n",
       " 2         3      Arshdeep Singh    20000000    180000000          Capped\n",
       " 3         4      Marcus Stoinis    20000000    110000000          Capped\n",
       " 4         5        Marco Jansen    12500000     70000000          Capped\n",
       " 5         6       Nehal Wadhera     3000000     42000000        Uncapped\n",
       " 6         7       Glenn Maxwell    20000000     42000000          Capped\n",
       " 7         8       Priyansh Arya     3000000     38000000        Uncapped\n",
       " 8         9         Josh Inglis    20000000     26000000          Capped\n",
       " 9        10  Azmatullah Omarzai    15000000     24000000          Capped\n",
       " 10       11     Lockie Ferguson    20000000     20000000          Capped\n",
       " 11       12   Vyshak Vijaykumar     3000000     18000000        Uncapped\n",
       " 12       13         Yash Thakur     3000000     16000000        Uncapped\n",
       " 13       14       Harpreet Brar     3000000     15000000        Uncapped\n",
       " 14       15        Aaron Hardie    12500000     12500000          Capped\n",
       " 15       16        Vishnu Vinod     3000000      9500000        Uncapped\n",
       " 16       17     Xavier Bartlett     7500000      8000000          Capped\n",
       " 17       18         Kuldeep Sen     7500000      8000000          Capped\n",
       " 18       19        Pravin Dubey     3000000      3000000        Uncapped\n",
       " 19       20        Pyla Avinash     3000000      3000000        Uncapped\n",
       " 20       21     Suryansh Shedge     3000000      3000000        Uncapped\n",
       " 21       22        Musheer Khan     3000000      3000000        Uncapped\n",
       " 22       23       Harnoor Pannu     3000000      3000000        Uncapped,\n",
       " 'RCB':     Sr. No.             Player  Base Price  Winning Bid Capped/Uncapped\n",
       " 0         1    Josh Hazlewood    200000000   1250000000          Capped\n",
       " 1         2         Phil Salt    200000000   1150000000          Capped\n",
       " 2         3      Jitesh Sharma   100000000   1100000000          Capped\n",
       " 3         4  Bhuvneshwar Kumar   200000000   1075000000          Capped\n",
       " 4         5  Liam Livingstone    200000000    875000000          Capped\n",
       " 5         6         Rasikh Dar    30000000    600000000        Uncapped\n",
       " 6         7      Krunal Pandya   200000000    575000000          Capped\n",
       " 7         8         Tim David    200000000    300000000          Capped\n",
       " 8         9     Jacob Bethell    125000000    260000000          Capped\n",
       " 9        10      Suyash Sharma    30000000    260000000        Uncapped\n",
       " 10       11   Devdutt Padikkal   200000000    200000000          Capped\n",
       " 11       12    Nuwan Thushara     75000000    160000000          Capped\n",
       " 12       13  Romario Shepherd    150000000    150000000          Capped\n",
       " 13       14   Lungisani Ngidi    100000000    100000000          Capped\n",
       " 14       15      Swapnil Singh    30000000     50000000        Uncapped\n",
       " 15       16       Mohit Rathee    30000000     30000000        Uncapped\n",
       " 16       17   Abhinandan Singh    30000000     30000000        Uncapped\n",
       " 17       18   Swastik Chhikara    30000000     30000000        Uncapped\n",
       " 18       19     Manoj Bhandage    30000000     30000000        Uncapped,\n",
       " 'RR':     Sr. No.                 Player  Base Price  Winning Bid Capped/Uncapped\n",
       " 0         1           Jofra Archer   200000000   1250000000          Capped\n",
       " 1         2       Tushar Deshpande   100000000    650000000          Capped\n",
       " 2         3      Wanindu Hasaranga   200000000    525000000          Capped\n",
       " 3         4     Maheesh Theekshana   200000000    440000000          Capped\n",
       " 4         5            Nitish Rana   150000000    420000000          Capped\n",
       " 5         6       Fazalhaq Farooqi   200000000    200000000          Capped\n",
       " 6         7          Kwena Maphaka    75000000    150000000          Capped\n",
       " 7         8          Akash Madhwal    30000000    120000000        Uncapped\n",
       " 8         9    Vaibhav Suryavanshi    30000000    110000000        Uncapped\n",
       " 9        10          Shubham Dubey    30000000     80000000        Uncapped\n",
       " 10       11         Yudhvir Charak    30000000     35000000        Uncapped\n",
       " 11       12           Ashok Sharma    30000000     30000000        Uncapped\n",
       " 12       13          Kunal Rathore    30000000     30000000        Uncapped\n",
       " 13       14  Kumar Kartikeya Singh    30000000     30000000        Uncapped,\n",
       " 'SRH':     Sr. No.           Player  Base Price  Winning Bid Capped/Uncapped\n",
       " 0         1     Ishan Kishan   200000000   1125000000          Capped\n",
       " 1         2   Mohammad Shami   200000000   1000000000          Capped\n",
       " 2         3    Harshal Patel   200000000    800000000          Capped\n",
       " 3         4  Abhinav Manohar    30000000    320000000        Uncapped\n",
       " 4         5     Rahul Chahar   100000000    320000000          Capped\n",
       " 5         6      Adam Zampa    200000000    240000000          Capped\n",
       " 6         7  Simarjeet Singh    30000000    150000000        Uncapped\n",
       " 7         8   Eshan Malinga     30000000    120000000        Uncapped\n",
       " 8         9    Brydon Carse    100000000    100000000          Capped\n",
       " 9        10   Jaydev Unadkat   100000000    100000000          Capped\n",
       " 10       11  Kamindu Mendis     75000000     75000000          Capped\n",
       " 11       12   Zeeshan Ansari    30000000     40000000        Uncapped\n",
       " 12       13      Sachin Baby    30000000     30000000        Uncapped\n",
       " 13       14     Aniket Verma    30000000     30000000        Uncapped\n",
       " 14       15    Atharva Taide    30000000     30000000        Uncapped}"
      ]
     },
     "execution_count": 69,
     "metadata": {},
     "output_type": "execute_result"
    }
   ],
   "source": [
    "T1"
   ]
  },
  {
   "cell_type": "code",
   "execution_count": 70,
   "metadata": {},
   "outputs": [],
   "source": [
    "# Creating the new dataframe\n",
    "\n",
    "data = pd.concat(T1.values(), keys=T1.keys(), names=[\"Team\", \"Index\"]).reset_index(level=0)"
   ]
  },
  {
   "cell_type": "code",
   "execution_count": 71,
   "metadata": {},
   "outputs": [
    {
     "data": {
      "text/html": [
       "<div>\n",
       "<style scoped>\n",
       "    .dataframe tbody tr th:only-of-type {\n",
       "        vertical-align: middle;\n",
       "    }\n",
       "\n",
       "    .dataframe tbody tr th {\n",
       "        vertical-align: top;\n",
       "    }\n",
       "\n",
       "    .dataframe thead th {\n",
       "        text-align: right;\n",
       "    }\n",
       "</style>\n",
       "<table border=\"1\" class=\"dataframe\">\n",
       "  <thead>\n",
       "    <tr style=\"text-align: right;\">\n",
       "      <th></th>\n",
       "      <th>Team</th>\n",
       "      <th>Sr. No.</th>\n",
       "      <th>Player</th>\n",
       "      <th>Base Price</th>\n",
       "      <th>Winning Bid</th>\n",
       "      <th>Capped/Uncapped</th>\n",
       "    </tr>\n",
       "    <tr>\n",
       "      <th>Index</th>\n",
       "      <th></th>\n",
       "      <th></th>\n",
       "      <th></th>\n",
       "      <th></th>\n",
       "      <th></th>\n",
       "      <th></th>\n",
       "    </tr>\n",
       "  </thead>\n",
       "  <tbody>\n",
       "    <tr>\n",
       "      <th>0</th>\n",
       "      <td>CSK</td>\n",
       "      <td>1</td>\n",
       "      <td>Noor Ahmad</td>\n",
       "      <td>20000000</td>\n",
       "      <td>100000000</td>\n",
       "      <td>Capped</td>\n",
       "    </tr>\n",
       "    <tr>\n",
       "      <th>1</th>\n",
       "      <td>CSK</td>\n",
       "      <td>2</td>\n",
       "      <td>Ravichandaran Ashwin</td>\n",
       "      <td>20000000</td>\n",
       "      <td>97500000</td>\n",
       "      <td>Capped</td>\n",
       "    </tr>\n",
       "    <tr>\n",
       "      <th>2</th>\n",
       "      <td>CSK</td>\n",
       "      <td>3</td>\n",
       "      <td>Devon Conway</td>\n",
       "      <td>20000000</td>\n",
       "      <td>62500000</td>\n",
       "      <td>Capped</td>\n",
       "    </tr>\n",
       "    <tr>\n",
       "      <th>3</th>\n",
       "      <td>CSK</td>\n",
       "      <td>4</td>\n",
       "      <td>Syed Khaleel Ahmed</td>\n",
       "      <td>20000000</td>\n",
       "      <td>48000000</td>\n",
       "      <td>Capped</td>\n",
       "    </tr>\n",
       "    <tr>\n",
       "      <th>4</th>\n",
       "      <td>CSK</td>\n",
       "      <td>5</td>\n",
       "      <td>Rachin Ravindra</td>\n",
       "      <td>15000000</td>\n",
       "      <td>40000000</td>\n",
       "      <td>Capped</td>\n",
       "    </tr>\n",
       "    <tr>\n",
       "      <th>...</th>\n",
       "      <td>...</td>\n",
       "      <td>...</td>\n",
       "      <td>...</td>\n",
       "      <td>...</td>\n",
       "      <td>...</td>\n",
       "      <td>...</td>\n",
       "    </tr>\n",
       "    <tr>\n",
       "      <th>10</th>\n",
       "      <td>SRH</td>\n",
       "      <td>11</td>\n",
       "      <td>Kamindu Mendis</td>\n",
       "      <td>75000000</td>\n",
       "      <td>75000000</td>\n",
       "      <td>Capped</td>\n",
       "    </tr>\n",
       "    <tr>\n",
       "      <th>11</th>\n",
       "      <td>SRH</td>\n",
       "      <td>12</td>\n",
       "      <td>Zeeshan Ansari</td>\n",
       "      <td>30000000</td>\n",
       "      <td>40000000</td>\n",
       "      <td>Uncapped</td>\n",
       "    </tr>\n",
       "    <tr>\n",
       "      <th>12</th>\n",
       "      <td>SRH</td>\n",
       "      <td>13</td>\n",
       "      <td>Sachin Baby</td>\n",
       "      <td>30000000</td>\n",
       "      <td>30000000</td>\n",
       "      <td>Uncapped</td>\n",
       "    </tr>\n",
       "    <tr>\n",
       "      <th>13</th>\n",
       "      <td>SRH</td>\n",
       "      <td>14</td>\n",
       "      <td>Aniket Verma</td>\n",
       "      <td>30000000</td>\n",
       "      <td>30000000</td>\n",
       "      <td>Uncapped</td>\n",
       "    </tr>\n",
       "    <tr>\n",
       "      <th>14</th>\n",
       "      <td>SRH</td>\n",
       "      <td>15</td>\n",
       "      <td>Atharva Taide</td>\n",
       "      <td>30000000</td>\n",
       "      <td>30000000</td>\n",
       "      <td>Uncapped</td>\n",
       "    </tr>\n",
       "  </tbody>\n",
       "</table>\n",
       "<p>182 rows × 6 columns</p>\n",
       "</div>"
      ],
      "text/plain": [
       "      Team  Sr. No.                Player  Base Price  Winning Bid  \\\n",
       "Index                                                                \n",
       "0      CSK        1            Noor Ahmad    20000000    100000000   \n",
       "1      CSK        2  Ravichandaran Ashwin    20000000     97500000   \n",
       "2      CSK        3          Devon Conway    20000000     62500000   \n",
       "3      CSK        4    Syed Khaleel Ahmed    20000000     48000000   \n",
       "4      CSK        5       Rachin Ravindra    15000000     40000000   \n",
       "...    ...      ...                   ...         ...          ...   \n",
       "10     SRH       11       Kamindu Mendis     75000000     75000000   \n",
       "11     SRH       12        Zeeshan Ansari    30000000     40000000   \n",
       "12     SRH       13           Sachin Baby    30000000     30000000   \n",
       "13     SRH       14          Aniket Verma    30000000     30000000   \n",
       "14     SRH       15         Atharva Taide    30000000     30000000   \n",
       "\n",
       "      Capped/Uncapped  \n",
       "Index                  \n",
       "0              Capped  \n",
       "1              Capped  \n",
       "2              Capped  \n",
       "3              Capped  \n",
       "4              Capped  \n",
       "...               ...  \n",
       "10             Capped  \n",
       "11           Uncapped  \n",
       "12           Uncapped  \n",
       "13           Uncapped  \n",
       "14           Uncapped  \n",
       "\n",
       "[182 rows x 6 columns]"
      ]
     },
     "execution_count": 71,
     "metadata": {},
     "output_type": "execute_result"
    }
   ],
   "source": [
    "data"
   ]
  },
  {
   "cell_type": "code",
   "execution_count": 72,
   "metadata": {},
   "outputs": [
    {
     "data": {
      "text/html": [
       "<div>\n",
       "<style scoped>\n",
       "    .dataframe tbody tr th:only-of-type {\n",
       "        vertical-align: middle;\n",
       "    }\n",
       "\n",
       "    .dataframe tbody tr th {\n",
       "        vertical-align: top;\n",
       "    }\n",
       "\n",
       "    .dataframe thead th {\n",
       "        text-align: right;\n",
       "    }\n",
       "</style>\n",
       "<table border=\"1\" class=\"dataframe\">\n",
       "  <thead>\n",
       "    <tr style=\"text-align: right;\">\n",
       "      <th></th>\n",
       "      <th>Team</th>\n",
       "      <th>Sr. No.</th>\n",
       "      <th>Player</th>\n",
       "      <th>Base Price</th>\n",
       "      <th>Winning Bid</th>\n",
       "      <th>Capped/Uncapped</th>\n",
       "    </tr>\n",
       "  </thead>\n",
       "  <tbody>\n",
       "    <tr>\n",
       "      <th>count</th>\n",
       "      <td>182</td>\n",
       "      <td>182.000000</td>\n",
       "      <td>182</td>\n",
       "      <td>1.820000e+02</td>\n",
       "      <td>1.820000e+02</td>\n",
       "      <td>182</td>\n",
       "    </tr>\n",
       "    <tr>\n",
       "      <th>unique</th>\n",
       "      <td>10</td>\n",
       "      <td>NaN</td>\n",
       "      <td>182</td>\n",
       "      <td>NaN</td>\n",
       "      <td>NaN</td>\n",
       "      <td>2</td>\n",
       "    </tr>\n",
       "    <tr>\n",
       "      <th>top</th>\n",
       "      <td>PBKS</td>\n",
       "      <td>NaN</td>\n",
       "      <td>Noor Ahmad</td>\n",
       "      <td>NaN</td>\n",
       "      <td>NaN</td>\n",
       "      <td>Capped</td>\n",
       "    </tr>\n",
       "    <tr>\n",
       "      <th>freq</th>\n",
       "      <td>23</td>\n",
       "      <td>NaN</td>\n",
       "      <td>1</td>\n",
       "      <td>NaN</td>\n",
       "      <td>NaN</td>\n",
       "      <td>97</td>\n",
       "    </tr>\n",
       "    <tr>\n",
       "      <th>mean</th>\n",
       "      <td>NaN</td>\n",
       "      <td>9.791209</td>\n",
       "      <td>NaN</td>\n",
       "      <td>3.390385e+07</td>\n",
       "      <td>1.180714e+08</td>\n",
       "      <td>NaN</td>\n",
       "    </tr>\n",
       "    <tr>\n",
       "      <th>std</th>\n",
       "      <td>NaN</td>\n",
       "      <td>5.577216</td>\n",
       "      <td>NaN</td>\n",
       "      <td>5.596351e+07</td>\n",
       "      <td>2.463418e+08</td>\n",
       "      <td>NaN</td>\n",
       "    </tr>\n",
       "    <tr>\n",
       "      <th>min</th>\n",
       "      <td>NaN</td>\n",
       "      <td>1.000000</td>\n",
       "      <td>NaN</td>\n",
       "      <td>3.000000e+06</td>\n",
       "      <td>3.000000e+06</td>\n",
       "      <td>NaN</td>\n",
       "    </tr>\n",
       "    <tr>\n",
       "      <th>25%</th>\n",
       "      <td>NaN</td>\n",
       "      <td>5.000000</td>\n",
       "      <td>NaN</td>\n",
       "      <td>3.000000e+06</td>\n",
       "      <td>7.500000e+06</td>\n",
       "      <td>NaN</td>\n",
       "    </tr>\n",
       "    <tr>\n",
       "      <th>50%</th>\n",
       "      <td>NaN</td>\n",
       "      <td>10.000000</td>\n",
       "      <td>NaN</td>\n",
       "      <td>1.500000e+07</td>\n",
       "      <td>2.700000e+07</td>\n",
       "      <td>NaN</td>\n",
       "    </tr>\n",
       "    <tr>\n",
       "      <th>75%</th>\n",
       "      <td>NaN</td>\n",
       "      <td>14.000000</td>\n",
       "      <td>NaN</td>\n",
       "      <td>3.000000e+07</td>\n",
       "      <td>1.000000e+08</td>\n",
       "      <td>NaN</td>\n",
       "    </tr>\n",
       "    <tr>\n",
       "      <th>max</th>\n",
       "      <td>NaN</td>\n",
       "      <td>23.000000</td>\n",
       "      <td>NaN</td>\n",
       "      <td>2.000000e+08</td>\n",
       "      <td>1.250000e+09</td>\n",
       "      <td>NaN</td>\n",
       "    </tr>\n",
       "  </tbody>\n",
       "</table>\n",
       "</div>"
      ],
      "text/plain": [
       "        Team     Sr. No.      Player    Base Price   Winning Bid  \\\n",
       "count    182  182.000000         182  1.820000e+02  1.820000e+02   \n",
       "unique    10         NaN         182           NaN           NaN   \n",
       "top     PBKS         NaN  Noor Ahmad           NaN           NaN   \n",
       "freq      23         NaN           1           NaN           NaN   \n",
       "mean     NaN    9.791209         NaN  3.390385e+07  1.180714e+08   \n",
       "std      NaN    5.577216         NaN  5.596351e+07  2.463418e+08   \n",
       "min      NaN    1.000000         NaN  3.000000e+06  3.000000e+06   \n",
       "25%      NaN    5.000000         NaN  3.000000e+06  7.500000e+06   \n",
       "50%      NaN   10.000000         NaN  1.500000e+07  2.700000e+07   \n",
       "75%      NaN   14.000000         NaN  3.000000e+07  1.000000e+08   \n",
       "max      NaN   23.000000         NaN  2.000000e+08  1.250000e+09   \n",
       "\n",
       "       Capped/Uncapped  \n",
       "count              182  \n",
       "unique               2  \n",
       "top             Capped  \n",
       "freq                97  \n",
       "mean               NaN  \n",
       "std                NaN  \n",
       "min                NaN  \n",
       "25%                NaN  \n",
       "50%                NaN  \n",
       "75%                NaN  \n",
       "max                NaN  "
      ]
     },
     "execution_count": 72,
     "metadata": {},
     "output_type": "execute_result"
    }
   ],
   "source": [
    "data.describe(include=\"all\")"
   ]
  },
  {
   "cell_type": "markdown",
   "metadata": {},
   "source": [
    "##### 4. Distribution of Winning Bids by Team:"
   ]
  },
  {
   "cell_type": "code",
   "execution_count": 73,
   "metadata": {},
   "outputs": [
    {
     "data": {
      "image/png": "[encoded data removed]",
      "text/plain": [
       "<Figure size 1000x600 with 1 Axes>"
      ]
     },
     "metadata": {},
     "output_type": "display_data"
    }
   ],
   "source": [
    "plt.figure(figsize=(10,6))\n",
    "sns.boxplot(data=data,x=\"Team\",y=\"Winning Bid\")\n",
    "plt.title(\"Distribution of Winning Bids by team\")\n",
    "plt.xticks(rotation=45)\n",
    "plt.xlabel(\"Winning Bid\")\n",
    "plt.ylabel(\"Team\")\n",
    "plt.tight_layout()\n",
    "plt.show()"
   ]
  },
  {
   "cell_type": "markdown",
   "metadata": {},
   "source": [
    "##### Insights\n",
    "\n",
    "1. Top Spenders: Teams like \"KKR\" and \"RCB\" are consistently spending more, likely targeting high-value players.\n",
    "2. Strategic Spending: Teams like \"MI\" and \"SRH\" may focus on budget players or uncapped talent, as their winning bids show less variability and lower medians.\n",
    "3. Player Prioritization: Outliers highlight star players or unexpected aggressive bidding strategies."
   ]
  },
  {
   "cell_type": "markdown",
   "metadata": {},
   "source": [
    "##### 5. Capped vs Uncapped players distribution:"
   ]
  },
  {
   "cell_type": "code",
   "execution_count": 74,
   "metadata": {},
   "outputs": [
    {
     "data": {
      "image/png": "[encoded data removed]",
      "text/plain": [
       "<Figure size 800x600 with 1 Axes>"
      ]
     },
     "metadata": {},
     "output_type": "display_data"
    }
   ],
   "source": [
    "plt.figure(figsize=(8,6))\n",
    "sns.countplot(data=data,x=\"Capped/Uncapped\",hue=\"Team\",palette='Set1')\n",
    "plt.title(\"Capped vs Uncapped Players by Team\")\n",
    "plt.xlabel(\"Player Category\")\n",
    "plt.ylabel(\"Count\")\n",
    "plt.legend(title=\"Team\",bbox_to_anchor=(1.05,1),loc=\"upper left\")\n",
    "plt.tight_layout()\n",
    "plt.show()"
   ]
  },
  {
   "cell_type": "markdown",
   "metadata": {},
   "source": [
    "##### Insights:\n",
    "\n",
    "1. Balanced vs Skewed Teams:\n",
    "\n",
    "    Teams like CSK and RCB maintain a balance of capped and uncapped players.\n",
    "    Example: CSK relies equally on experienced players and new talent.\n",
    "\n",
    "2. Focus on Uncapped Players:\n",
    "\n",
    "    Teams like DC and PBKS have more uncapped players, possibly focusing on budget talent or player development.\n",
    "    Example: PBKS may be looking for hidden gems among uncapped players.\n",
    "\n",
    "3. Preference for Experience:\n",
    "\n",
    "    Teams like MI prioritize capped players, indicating a strategy to rely on proven performers.\n",
    "    Example: MI has more capped players, reflecting an experienced squad.\n",
    "\n",
    "4. Team Strategies:\n",
    "\n",
    "    Teams with more capped players (e.g., KKR) may aim for immediate impact, while teams with uncapped players target growth and cost efficiency."
   ]
  },
  {
   "cell_type": "markdown",
   "metadata": {},
   "source": [
    "##### 6. Distribution of Base Price across Teams"
   ]
  },
  {
   "cell_type": "code",
   "execution_count": 75,
   "metadata": {},
   "outputs": [
    {
     "data": {
      "image/png": "[encoded data removed]",
      "text/plain": [
       "<Figure size 1000x600 with 1 Axes>"
      ]
     },
     "metadata": {},
     "output_type": "display_data"
    }
   ],
   "source": [
    "plt.figure(figsize=(10,6))\n",
    "sns.boxplot(data=data,x=\"Team\",y=\"Base Price\",palette=\"coolwarm\")\n",
    "plt.title(\"Distribution of base price by Team\")\n",
    "plt.xticks(rotation=45)\n",
    "plt.xlabel(\"Team\")\n",
    "plt.ylabel(\"Base Price\")\n",
    "plt.tight_layout()\n",
    "plt.show()"
   ]
  },
  {
   "cell_type": "markdown",
   "metadata": {},
   "source": [
    "##### Insights\n",
    "\n",
    "1. Teams like KKR and GT show higher median base prices, indicating a preference for players with higher starting valuations.\n",
    "2. Teams with shorter whiskers, such as CSK, have more consistent base prices."
   ]
  },
  {
   "cell_type": "markdown",
   "metadata": {},
   "source": [
    "##### 7. Correlation analysis between Base Price and Winning Bid"
   ]
  },
  {
   "cell_type": "code",
   "execution_count": 76,
   "metadata": {},
   "outputs": [
    {
     "data": {
      "image/png": "[encoded data removed]",
      "text/plain": [
       "<Figure size 1800x600 with 1 Axes>"
      ]
     },
     "metadata": {},
     "output_type": "display_data"
    }
   ],
   "source": [
    "plt.figure(figsize=(18,6))\n",
    "sns.scatterplot(data=data,x=\"Base Price\",y=\"Winning Bid\",hue=\"Team\",palette=\"deep\")\n",
    "plt.title(\"Base Price vs Winning Bid\")\n",
    "plt.xlabel(\"Base Price\")\n",
    "plt.ylabel(\"Winning Bid\")\n",
    "plt.legend(title=\"Team\",bbox_to_anchor=(1.05,1),loc=\"upper left\")\n",
    "plt.tight_layout()\n",
    "plt.show()"
   ]
  },
  {
   "cell_type": "markdown",
   "metadata": {},
   "source": [
    "##### Insights:\n",
    "\n",
    "1. A positive trend is observed: players with higher base prices often secure higher winning bids.\n",
    "2. Some outliers (e.g., players with high winning bids but low base prices) indicate aggressive bidding for undervalued players."
   ]
  },
  {
   "cell_type": "markdown",
   "metadata": {},
   "source": [
    "##### 8. Team-wise count of players:"
   ]
  },
  {
   "cell_type": "code",
   "execution_count": 77,
   "metadata": {},
   "outputs": [],
   "source": [
    "team_count=data['Team'].value_counts()"
   ]
  },
  {
   "cell_type": "code",
   "execution_count": 78,
   "metadata": {},
   "outputs": [
    {
     "data": {
      "text/plain": [
       "PBKS    23\n",
       "CSK     20\n",
       "GT      20\n",
       "DC      19\n",
       "LSG     19\n",
       "RCB     19\n",
       "MI      18\n",
       "KKR     15\n",
       "SRH     15\n",
       "RR      14\n",
       "Name: Team, dtype: int64"
      ]
     },
     "execution_count": 78,
     "metadata": {},
     "output_type": "execute_result"
    }
   ],
   "source": [
    "team_count"
   ]
  },
  {
   "cell_type": "code",
   "execution_count": 79,
   "metadata": {},
   "outputs": [
    {
     "data": {
      "image/png": "[encoded data removed]",
      "text/plain": [
       "<Figure size 1000x600 with 1 Axes>"
      ]
     },
     "metadata": {},
     "output_type": "display_data"
    }
   ],
   "source": [
    "plt.figure(figsize=(10,6))\n",
    "sns.barplot(x=team_count.index,y=team_count.values,palette=\"viridis\")\n",
    "plt.title(\"Number of Players in each team\")\n",
    "plt.xlabel(\"Team\")\n",
    "plt.ylabel(\"Count\")\n",
    "plt.xticks(rotation=45)\n",
    "plt.tight_layout()\n",
    "plt.show()"
   ]
  },
  {
   "cell_type": "markdown",
   "metadata": {},
   "source": [
    "##### Insights:\n",
    "\n",
    "1. Teams like CSK and GT have a similar number of players, reflecting balanced squad sizes.\n",
    "2. Teams with fewer players (e.g., KKR) might focus on quality over quantity."
   ]
  },
  {
   "cell_type": "markdown",
   "metadata": {},
   "source": [
    "### Total and Average Spending by Team"
   ]
  },
  {
   "cell_type": "code",
   "execution_count": 80,
   "metadata": {},
   "outputs": [],
   "source": [
    "team_spend=data.groupby(\"Team\")[\"Winning Bid\"].agg([\"sum\",\"mean\"]).reset_index()"
   ]
  },
  {
   "cell_type": "code",
   "execution_count": 81,
   "metadata": {},
   "outputs": [
    {
     "data": {
      "text/html": [
       "<div>\n",
       "<style scoped>\n",
       "    .dataframe tbody tr th:only-of-type {\n",
       "        vertical-align: middle;\n",
       "    }\n",
       "\n",
       "    .dataframe tbody tr th {\n",
       "        vertical-align: top;\n",
       "    }\n",
       "\n",
       "    .dataframe thead th {\n",
       "        text-align: right;\n",
       "    }\n",
       "</style>\n",
       "<table border=\"1\" class=\"dataframe\">\n",
       "  <thead>\n",
       "    <tr style=\"text-align: right;\">\n",
       "      <th></th>\n",
       "      <th>Team</th>\n",
       "      <th>sum</th>\n",
       "      <th>mean</th>\n",
       "    </tr>\n",
       "  </thead>\n",
       "  <tbody>\n",
       "    <tr>\n",
       "      <th>0</th>\n",
       "      <td>CSK</td>\n",
       "      <td>549500000</td>\n",
       "      <td>2.747500e+07</td>\n",
       "    </tr>\n",
       "    <tr>\n",
       "      <th>1</th>\n",
       "      <td>DC</td>\n",
       "      <td>728000000</td>\n",
       "      <td>3.831579e+07</td>\n",
       "    </tr>\n",
       "    <tr>\n",
       "      <th>2</th>\n",
       "      <td>GT</td>\n",
       "      <td>688500000</td>\n",
       "      <td>3.442500e+07</td>\n",
       "    </tr>\n",
       "    <tr>\n",
       "      <th>3</th>\n",
       "      <td>KKR</td>\n",
       "      <td>509500000</td>\n",
       "      <td>3.396667e+07</td>\n",
       "    </tr>\n",
       "    <tr>\n",
       "      <th>4</th>\n",
       "      <td>LSG</td>\n",
       "      <td>689000000</td>\n",
       "      <td>3.626316e+07</td>\n",
       "    </tr>\n",
       "    <tr>\n",
       "      <th>5</th>\n",
       "      <td>MI</td>\n",
       "      <td>448000000</td>\n",
       "      <td>2.488889e+07</td>\n",
       "    </tr>\n",
       "    <tr>\n",
       "      <th>6</th>\n",
       "      <td>PBKS</td>\n",
       "      <td>1101500000</td>\n",
       "      <td>4.789130e+07</td>\n",
       "    </tr>\n",
       "    <tr>\n",
       "      <th>7</th>\n",
       "      <td>RCB</td>\n",
       "      <td>8225000000</td>\n",
       "      <td>4.328947e+08</td>\n",
       "    </tr>\n",
       "    <tr>\n",
       "      <th>8</th>\n",
       "      <td>RR</td>\n",
       "      <td>4070000000</td>\n",
       "      <td>2.907143e+08</td>\n",
       "    </tr>\n",
       "    <tr>\n",
       "      <th>9</th>\n",
       "      <td>SRH</td>\n",
       "      <td>4480000000</td>\n",
       "      <td>2.986667e+08</td>\n",
       "    </tr>\n",
       "  </tbody>\n",
       "</table>\n",
       "</div>"
      ],
      "text/plain": [
       "   Team         sum          mean\n",
       "0   CSK   549500000  2.747500e+07\n",
       "1    DC   728000000  3.831579e+07\n",
       "2    GT   688500000  3.442500e+07\n",
       "3   KKR   509500000  3.396667e+07\n",
       "4   LSG   689000000  3.626316e+07\n",
       "5    MI   448000000  2.488889e+07\n",
       "6  PBKS  1101500000  4.789130e+07\n",
       "7   RCB  8225000000  4.328947e+08\n",
       "8    RR  4070000000  2.907143e+08\n",
       "9   SRH  4480000000  2.986667e+08"
      ]
     },
     "execution_count": 81,
     "metadata": {},
     "output_type": "execute_result"
    }
   ],
   "source": [
    "team_spend"
   ]
  },
  {
   "cell_type": "markdown",
   "metadata": {},
   "source": [
    "##### 9. Total Spending by Team"
   ]
  },
  {
   "cell_type": "code",
   "execution_count": 82,
   "metadata": {},
   "outputs": [
    {
     "data": {
      "image/png": "[encoded data removed]",
      "text/plain": [
       "<Figure size 1000x600 with 1 Axes>"
      ]
     },
     "metadata": {},
     "output_type": "display_data"
    }
   ],
   "source": [
    "plt.figure(figsize=(10,6))\n",
    "sns.barplot(data=team_spend,x=\"Team\",y=\"sum\",palette=\"viridis\")\n",
    "plt.title(\"Total Spending by Team\")\n",
    "plt.xlabel(\"Team\")\n",
    "plt.ylabel(\"Total Winning Bid\")\n",
    "plt.xticks(rotation=45)\n",
    "plt.tight_layout()\n",
    "plt.show()"
   ]
  },
  {
   "cell_type": "markdown",
   "metadata": {},
   "source": [
    "##### Insights:\n",
    "\n",
    "1. Teams like RCB and KKR spent the most on players, indicating aggressive bidding.\n",
    "2. Teams like PBKS and SRH had relatively conservative spending."
   ]
  },
  {
   "cell_type": "markdown",
   "metadata": {},
   "source": [
    "##### 10. Average Spending by Team"
   ]
  },
  {
   "cell_type": "code",
   "execution_count": 83,
   "metadata": {},
   "outputs": [
    {
     "data": {
      "image/png": "[encoded data removed]",
      "text/plain": [
       "<Figure size 1000x600 with 1 Axes>"
      ]
     },
     "metadata": {},
     "output_type": "display_data"
    }
   ],
   "source": [
    "plt.figure(figsize=(10,6))\n",
    "sns.barplot(data=team_spend,x=\"Team\",y=\"mean\",palette=\"Set1\")\n",
    "plt.title(\"Avaerage Spending by Team\")\n",
    "plt.xlabel(\"Team\")\n",
    "plt.ylabel(\"Average Winning Bid\")\n",
    "plt.xticks(rotation=45)\n",
    "plt.tight_layout()\n",
    "plt.show()"
   ]
  },
  {
   "cell_type": "markdown",
   "metadata": {},
   "source": [
    "##### Insights:\n",
    "\n",
    "1. RCB and KKR also lead in average spending per player, reflecting a focus on high-value acquisitions.\n",
    "2. CSK and PBKS spent less per player, suggesting a balanced or budget-conscious approach."
   ]
  },
  {
   "cell_type": "markdown",
   "metadata": {},
   "source": [
    "##### 11. Distribution of Base Price and Winning Bid"
   ]
  },
  {
   "cell_type": "code",
   "execution_count": 84,
   "metadata": {},
   "outputs": [
    {
     "data": {
      "image/png": "[encoded data removed]",
      "text/plain": [
       "<Figure size 1000x600 with 1 Axes>"
      ]
     },
     "metadata": {},
     "output_type": "display_data"
    }
   ],
   "source": [
    "plt.figure(figsize=(10, 6))\n",
    "sns.histplot(data[\"Base Price\"], kde=True, color=\"blue\", label=\"Base Price\", bins=30, stat=\"density\")\n",
    "sns.histplot(data[\"Winning Bid\"], kde=True, color=\"green\", label=\"Winning Bid\", bins=30, stat=\"density\")\n",
    "plt.title(\"Distribution of Base Price and Winning Bid\")\n",
    "plt.xlabel(\"Price (INR)\")\n",
    "plt.ylabel(\"Density\")\n",
    "plt.legend()\n",
    "plt.tight_layout()\n",
    "plt.show()"
   ]
  },
  {
   "cell_type": "markdown",
   "metadata": {},
   "source": [
    "##### Insights:\n",
    "\n",
    "1. Winning bids generally show a higher spread and density compared to base prices, indicating significant competition for certain players.\n",
    "2. The tail of the winning bid distribution reflects outliers with extremely high bids."
   ]
  },
  {
   "cell_type": "code",
   "execution_count": null,
   "metadata": {},
   "outputs": [],
   "source": []
  }
 ],
 "metadata": {
  "kernelspec": {
   "display_name": "base",
   "language": "python",
   "name": "python3"
  },
  "language_info": {
   "codemirror_mode": {
    "name": "ipython",
    "version": 3
   },
   "file_extension": ".py",
   "mimetype": "text/x-python",
   "name": "python",
   "nbconvert_exporter": "python",
   "pygments_lexer": "ipython3",
   "version": "3.11.5"
  }
 },
 "nbformat": 4,
 "nbformat_minor": 2
}
